{
 "cells": [
  {
   "cell_type": "code",
   "execution_count": 1,
   "metadata": {},
   "outputs": [],
   "source": [
    "import pandas as pd"
   ]
  },
  {
   "cell_type": "code",
   "execution_count": 2,
   "metadata": {},
   "outputs": [],
   "source": [
    "from numpy.random import seed\n",
    "seed(42)"
   ]
  },
  {
   "cell_type": "markdown",
   "metadata": {},
   "source": [
    "# Read the CSV and Perform Basic Data Cleaning"
   ]
  },
  {
   "cell_type": "code",
   "execution_count": 3,
   "metadata": {},
   "outputs": [],
   "source": [
    "df = pd.read_csv(\"exoplanet_data.csv\")\n",
    "# Drop the null columns where all values are null\n",
    "df = df.dropna(axis='columns', how='all')\n",
    "# Drop the null rows\n",
    "df = df.dropna()\n"
   ]
  },
  {
   "cell_type": "code",
   "execution_count": 4,
   "metadata": {},
   "outputs": [
    {
     "name": "stdout",
     "output_type": "stream",
     "text": [
      "<class 'pandas.core.frame.DataFrame'>\n",
      "Int64Index: 6991 entries, 0 to 6990\n",
      "Data columns (total 41 columns):\n",
      " #   Column             Non-Null Count  Dtype  \n",
      "---  ------             --------------  -----  \n",
      " 0   koi_disposition    6991 non-null   object \n",
      " 1   koi_fpflag_nt      6991 non-null   int64  \n",
      " 2   koi_fpflag_ss      6991 non-null   int64  \n",
      " 3   koi_fpflag_co      6991 non-null   int64  \n",
      " 4   koi_fpflag_ec      6991 non-null   int64  \n",
      " 5   koi_period         6991 non-null   float64\n",
      " 6   koi_period_err1    6991 non-null   float64\n",
      " 7   koi_period_err2    6991 non-null   float64\n",
      " 8   koi_time0bk        6991 non-null   float64\n",
      " 9   koi_time0bk_err1   6991 non-null   float64\n",
      " 10  koi_time0bk_err2   6991 non-null   float64\n",
      " 11  koi_impact         6991 non-null   float64\n",
      " 12  koi_impact_err1    6991 non-null   float64\n",
      " 13  koi_impact_err2    6991 non-null   float64\n",
      " 14  koi_duration       6991 non-null   float64\n",
      " 15  koi_duration_err1  6991 non-null   float64\n",
      " 16  koi_duration_err2  6991 non-null   float64\n",
      " 17  koi_depth          6991 non-null   float64\n",
      " 18  koi_depth_err1     6991 non-null   float64\n",
      " 19  koi_depth_err2     6991 non-null   float64\n",
      " 20  koi_prad           6991 non-null   float64\n",
      " 21  koi_prad_err1      6991 non-null   float64\n",
      " 22  koi_prad_err2      6991 non-null   float64\n",
      " 23  koi_teq            6991 non-null   int64  \n",
      " 24  koi_insol          6991 non-null   float64\n",
      " 25  koi_insol_err1     6991 non-null   float64\n",
      " 26  koi_insol_err2     6991 non-null   float64\n",
      " 27  koi_model_snr      6991 non-null   float64\n",
      " 28  koi_tce_plnt_num   6991 non-null   int64  \n",
      " 29  koi_steff          6991 non-null   int64  \n",
      " 30  koi_steff_err1     6991 non-null   int64  \n",
      " 31  koi_steff_err2     6991 non-null   int64  \n",
      " 32  koi_slogg          6991 non-null   float64\n",
      " 33  koi_slogg_err1     6991 non-null   float64\n",
      " 34  koi_slogg_err2     6991 non-null   float64\n",
      " 35  koi_srad           6991 non-null   float64\n",
      " 36  koi_srad_err1      6991 non-null   float64\n",
      " 37  koi_srad_err2      6991 non-null   float64\n",
      " 38  ra                 6991 non-null   float64\n",
      " 39  dec                6991 non-null   float64\n",
      " 40  koi_kepmag         6991 non-null   float64\n",
      "dtypes: float64(31), int64(9), object(1)\n",
      "memory usage: 2.2+ MB\n"
     ]
    }
   ],
   "source": [
    "df.info()"
   ]
  },
  {
   "cell_type": "markdown",
   "metadata": {},
   "source": [
    "# Select your features (columns)"
   ]
  },
  {
   "cell_type": "code",
   "execution_count": 5,
   "metadata": {},
   "outputs": [],
   "source": [
    "# Set features. This will also be used as your x values.\n",
    "selected_features = df[['koi_fpflag_nt', 'koi_fpflag_ss', 'koi_fpflag_co', 'koi_fpflag_ec', 'koi_period', \n",
    "                        'koi_time0bk', 'koi_impact', 'koi_duration', 'koi_depth','koi_prad', 'koi_teq',\n",
    "                       'koi_insol','koi_model_snr','koi_steff','koi_slogg','koi_srad','ra','dec','koi_kepmag']]"
   ]
  },
  {
   "cell_type": "code",
   "execution_count": 6,
   "metadata": {},
   "outputs": [
    {
     "name": "stdout",
     "output_type": "stream",
     "text": [
      "<class 'pandas.core.frame.DataFrame'>\n",
      "Int64Index: 6991 entries, 0 to 6990\n",
      "Data columns (total 19 columns):\n",
      " #   Column         Non-Null Count  Dtype  \n",
      "---  ------         --------------  -----  \n",
      " 0   koi_fpflag_nt  6991 non-null   int64  \n",
      " 1   koi_fpflag_ss  6991 non-null   int64  \n",
      " 2   koi_fpflag_co  6991 non-null   int64  \n",
      " 3   koi_fpflag_ec  6991 non-null   int64  \n",
      " 4   koi_period     6991 non-null   float64\n",
      " 5   koi_time0bk    6991 non-null   float64\n",
      " 6   koi_impact     6991 non-null   float64\n",
      " 7   koi_duration   6991 non-null   float64\n",
      " 8   koi_depth      6991 non-null   float64\n",
      " 9   koi_prad       6991 non-null   float64\n",
      " 10  koi_teq        6991 non-null   int64  \n",
      " 11  koi_insol      6991 non-null   float64\n",
      " 12  koi_model_snr  6991 non-null   float64\n",
      " 13  koi_steff      6991 non-null   int64  \n",
      " 14  koi_slogg      6991 non-null   float64\n",
      " 15  koi_srad       6991 non-null   float64\n",
      " 16  ra             6991 non-null   float64\n",
      " 17  dec            6991 non-null   float64\n",
      " 18  koi_kepmag     6991 non-null   float64\n",
      "dtypes: float64(13), int64(6)\n",
      "memory usage: 1.1 MB\n"
     ]
    }
   ],
   "source": [
    "selected_features.info()"
   ]
  },
  {
   "cell_type": "markdown",
   "metadata": {},
   "source": [
    "# Create a Train Test Split\n",
    "\n",
    "Use `koi_disposition` for the y values"
   ]
  },
  {
   "cell_type": "code",
   "execution_count": 7,
   "metadata": {},
   "outputs": [
    {
     "data": {
      "text/plain": [
       "0         CONFIRMED\n",
       "1    FALSE POSITIVE\n",
       "2    FALSE POSITIVE\n",
       "3         CONFIRMED\n",
       "4         CONFIRMED\n",
       "Name: koi_disposition, dtype: object"
      ]
     },
     "execution_count": 7,
     "metadata": {},
     "output_type": "execute_result"
    }
   ],
   "source": [
    "target=df['koi_disposition']\n",
    "target.head()"
   ]
  },
  {
   "cell_type": "code",
   "execution_count": 8,
   "metadata": {},
   "outputs": [],
   "source": [
    "from sklearn.model_selection import train_test_split\n",
    "X_train, X_test, y_train, y_test=train_test_split(selected_features,target,random_state=42)"
   ]
  },
  {
   "cell_type": "code",
   "execution_count": 9,
   "metadata": {},
   "outputs": [
    {
     "data": {
      "text/html": [
       "<div>\n",
       "<style scoped>\n",
       "    .dataframe tbody tr th:only-of-type {\n",
       "        vertical-align: middle;\n",
       "    }\n",
       "\n",
       "    .dataframe tbody tr th {\n",
       "        vertical-align: top;\n",
       "    }\n",
       "\n",
       "    .dataframe thead th {\n",
       "        text-align: right;\n",
       "    }\n",
       "</style>\n",
       "<table border=\"1\" class=\"dataframe\">\n",
       "  <thead>\n",
       "    <tr style=\"text-align: right;\">\n",
       "      <th></th>\n",
       "      <th>koi_fpflag_nt</th>\n",
       "      <th>koi_fpflag_ss</th>\n",
       "      <th>koi_fpflag_co</th>\n",
       "      <th>koi_fpflag_ec</th>\n",
       "      <th>koi_period</th>\n",
       "      <th>koi_time0bk</th>\n",
       "      <th>koi_impact</th>\n",
       "      <th>koi_duration</th>\n",
       "      <th>koi_depth</th>\n",
       "      <th>koi_prad</th>\n",
       "      <th>koi_teq</th>\n",
       "      <th>koi_insol</th>\n",
       "      <th>koi_model_snr</th>\n",
       "      <th>koi_steff</th>\n",
       "      <th>koi_slogg</th>\n",
       "      <th>koi_srad</th>\n",
       "      <th>ra</th>\n",
       "      <th>dec</th>\n",
       "      <th>koi_kepmag</th>\n",
       "    </tr>\n",
       "  </thead>\n",
       "  <tbody>\n",
       "    <tr>\n",
       "      <th>6122</th>\n",
       "      <td>0</td>\n",
       "      <td>0</td>\n",
       "      <td>0</td>\n",
       "      <td>0</td>\n",
       "      <td>6.768901</td>\n",
       "      <td>133.077240</td>\n",
       "      <td>0.150</td>\n",
       "      <td>3.61600</td>\n",
       "      <td>123.1</td>\n",
       "      <td>1.24</td>\n",
       "      <td>1017</td>\n",
       "      <td>253.30</td>\n",
       "      <td>10.8</td>\n",
       "      <td>5737</td>\n",
       "      <td>4.327</td>\n",
       "      <td>1.125</td>\n",
       "      <td>294.40472</td>\n",
       "      <td>39.351681</td>\n",
       "      <td>14.725</td>\n",
       "    </tr>\n",
       "    <tr>\n",
       "      <th>6370</th>\n",
       "      <td>0</td>\n",
       "      <td>1</td>\n",
       "      <td>0</td>\n",
       "      <td>1</td>\n",
       "      <td>0.733726</td>\n",
       "      <td>132.020050</td>\n",
       "      <td>0.291</td>\n",
       "      <td>2.30900</td>\n",
       "      <td>114.6</td>\n",
       "      <td>0.86</td>\n",
       "      <td>1867</td>\n",
       "      <td>2891.64</td>\n",
       "      <td>13.8</td>\n",
       "      <td>5855</td>\n",
       "      <td>4.578</td>\n",
       "      <td>0.797</td>\n",
       "      <td>284.50391</td>\n",
       "      <td>42.463860</td>\n",
       "      <td>15.770</td>\n",
       "    </tr>\n",
       "    <tr>\n",
       "      <th>2879</th>\n",
       "      <td>1</td>\n",
       "      <td>0</td>\n",
       "      <td>0</td>\n",
       "      <td>0</td>\n",
       "      <td>7.652707</td>\n",
       "      <td>134.460380</td>\n",
       "      <td>0.970</td>\n",
       "      <td>79.89690</td>\n",
       "      <td>641.1</td>\n",
       "      <td>3.21</td>\n",
       "      <td>989</td>\n",
       "      <td>226.81</td>\n",
       "      <td>254.3</td>\n",
       "      <td>6328</td>\n",
       "      <td>4.481</td>\n",
       "      <td>0.963</td>\n",
       "      <td>295.50211</td>\n",
       "      <td>38.983540</td>\n",
       "      <td>13.099</td>\n",
       "    </tr>\n",
       "    <tr>\n",
       "      <th>107</th>\n",
       "      <td>0</td>\n",
       "      <td>0</td>\n",
       "      <td>0</td>\n",
       "      <td>0</td>\n",
       "      <td>7.953547</td>\n",
       "      <td>174.662240</td>\n",
       "      <td>0.300</td>\n",
       "      <td>2.63120</td>\n",
       "      <td>875.4</td>\n",
       "      <td>2.25</td>\n",
       "      <td>696</td>\n",
       "      <td>55.37</td>\n",
       "      <td>38.4</td>\n",
       "      <td>4768</td>\n",
       "      <td>4.536</td>\n",
       "      <td>0.779</td>\n",
       "      <td>291.15878</td>\n",
       "      <td>40.750271</td>\n",
       "      <td>15.660</td>\n",
       "    </tr>\n",
       "    <tr>\n",
       "      <th>29</th>\n",
       "      <td>0</td>\n",
       "      <td>0</td>\n",
       "      <td>0</td>\n",
       "      <td>0</td>\n",
       "      <td>4.959319</td>\n",
       "      <td>172.258529</td>\n",
       "      <td>0.831</td>\n",
       "      <td>2.22739</td>\n",
       "      <td>9802.0</td>\n",
       "      <td>12.21</td>\n",
       "      <td>1103</td>\n",
       "      <td>349.40</td>\n",
       "      <td>696.5</td>\n",
       "      <td>5712</td>\n",
       "      <td>4.359</td>\n",
       "      <td>1.082</td>\n",
       "      <td>292.16705</td>\n",
       "      <td>48.727589</td>\n",
       "      <td>15.263</td>\n",
       "    </tr>\n",
       "  </tbody>\n",
       "</table>\n",
       "</div>"
      ],
      "text/plain": [
       "      koi_fpflag_nt  koi_fpflag_ss  koi_fpflag_co  koi_fpflag_ec  koi_period  \\\n",
       "6122              0              0              0              0    6.768901   \n",
       "6370              0              1              0              1    0.733726   \n",
       "2879              1              0              0              0    7.652707   \n",
       "107               0              0              0              0    7.953547   \n",
       "29                0              0              0              0    4.959319   \n",
       "\n",
       "      koi_time0bk  koi_impact  koi_duration  koi_depth  koi_prad  koi_teq  \\\n",
       "6122   133.077240       0.150       3.61600      123.1      1.24     1017   \n",
       "6370   132.020050       0.291       2.30900      114.6      0.86     1867   \n",
       "2879   134.460380       0.970      79.89690      641.1      3.21      989   \n",
       "107    174.662240       0.300       2.63120      875.4      2.25      696   \n",
       "29     172.258529       0.831       2.22739     9802.0     12.21     1103   \n",
       "\n",
       "      koi_insol  koi_model_snr  koi_steff  koi_slogg  koi_srad         ra  \\\n",
       "6122     253.30           10.8       5737      4.327     1.125  294.40472   \n",
       "6370    2891.64           13.8       5855      4.578     0.797  284.50391   \n",
       "2879     226.81          254.3       6328      4.481     0.963  295.50211   \n",
       "107       55.37           38.4       4768      4.536     0.779  291.15878   \n",
       "29       349.40          696.5       5712      4.359     1.082  292.16705   \n",
       "\n",
       "            dec  koi_kepmag  \n",
       "6122  39.351681      14.725  \n",
       "6370  42.463860      15.770  \n",
       "2879  38.983540      13.099  \n",
       "107   40.750271      15.660  \n",
       "29    48.727589      15.263  "
      ]
     },
     "execution_count": 9,
     "metadata": {},
     "output_type": "execute_result"
    }
   ],
   "source": [
    "X_train.head()"
   ]
  },
  {
   "cell_type": "markdown",
   "metadata": {},
   "source": [
    "# Pre-processing\n",
    "\n",
    "Scale the data using the MinMaxScaler and perform some feature selection"
   ]
  },
  {
   "cell_type": "code",
   "execution_count": 10,
   "metadata": {},
   "outputs": [],
   "source": [
    "# Scale your data\n",
    "from sklearn.preprocessing import LabelEncoder, MinMaxScaler\n",
    "X_scaler=MinMaxScaler().fit(X_train)\n",
    "X_train_scaled=X_scaler.transform(X_train)\n",
    "X_test_scaled=X_scaler.transform(X_test)"
   ]
  },
  {
   "cell_type": "code",
   "execution_count": 11,
   "metadata": {},
   "outputs": [],
   "source": [
    "#One-hot Encoding\n",
    "from tensorflow.keras.utils import to_categorical\n",
    "\n",
    "#Step1: Label-encode dataset\n",
    "label_encoder=LabelEncoder()\n",
    "label_encoder.fit(y_train)\n",
    "encoded_y_train=label_encoder.transform(y_train)\n",
    "encoded_y_test=label_encoder.transform(y_test)\n"
   ]
  },
  {
   "cell_type": "code",
   "execution_count": 12,
   "metadata": {},
   "outputs": [],
   "source": [
    "#Step2: Convert encoded Labels to one-hot-encoding\n",
    "y_train_categorical=to_categorical(encoded_y_train)\n",
    "y_test_categorical=to_categorical (encoded_y_test)"
   ]
  },
  {
   "cell_type": "code",
   "execution_count": 13,
   "metadata": {},
   "outputs": [
    {
     "name": "stdout",
     "output_type": "stream",
     "text": [
      "['CANDIDATE' 'CONFIRMED' 'FALSE POSITIVE']\n"
     ]
    }
   ],
   "source": [
    "print(label_encoder.classes_)"
   ]
  },
  {
   "cell_type": "markdown",
   "metadata": {},
   "source": [
    "# Train the Model\n",
    "\n"
   ]
  },
  {
   "cell_type": "code",
   "execution_count": 14,
   "metadata": {},
   "outputs": [],
   "source": [
    "from tensorflow.keras.models import Sequential\n",
    "model = Sequential()"
   ]
  },
  {
   "cell_type": "code",
   "execution_count": 15,
   "metadata": {},
   "outputs": [],
   "source": [
    "from tensorflow.keras.layers import Dense\n",
    "model.add(Dense(units=10, activation='relu', input_dim=19))\n",
    "model.add(Dense(units=3, activation='softmax'))"
   ]
  },
  {
   "cell_type": "code",
   "execution_count": 16,
   "metadata": {},
   "outputs": [
    {
     "name": "stdout",
     "output_type": "stream",
     "text": [
      "Model: \"sequential\"\n",
      "_________________________________________________________________\n",
      "Layer (type)                 Output Shape              Param #   \n",
      "=================================================================\n",
      "dense (Dense)                (None, 10)                200       \n",
      "_________________________________________________________________\n",
      "dense_1 (Dense)              (None, 3)                 33        \n",
      "=================================================================\n",
      "Total params: 233\n",
      "Trainable params: 233\n",
      "Non-trainable params: 0\n",
      "_________________________________________________________________\n"
     ]
    }
   ],
   "source": [
    "model.summary()"
   ]
  },
  {
   "cell_type": "code",
   "execution_count": 17,
   "metadata": {},
   "outputs": [],
   "source": [
    "# Compile the model\n",
    "model.compile(optimizer='adam',\n",
    "              loss='categorical_crossentropy',\n",
    "              metrics=['accuracy'])"
   ]
  },
  {
   "cell_type": "code",
   "execution_count": 18,
   "metadata": {},
   "outputs": [
    {
     "name": "stdout",
     "output_type": "stream",
     "text": [
      "Epoch 1/100\n",
      "164/164 - 0s - loss: 0.9313 - accuracy: 0.4455\n",
      "Epoch 2/100\n",
      "164/164 - 0s - loss: 0.6898 - accuracy: 0.7032\n",
      "Epoch 3/100\n",
      "164/164 - 0s - loss: 0.5466 - accuracy: 0.7685\n",
      "Epoch 4/100\n",
      "164/164 - 0s - loss: 0.4675 - accuracy: 0.7801\n",
      "Epoch 5/100\n",
      "164/164 - 0s - loss: 0.4287 - accuracy: 0.7870\n",
      "Epoch 6/100\n",
      "164/164 - 0s - loss: 0.4089 - accuracy: 0.7906\n",
      "Epoch 7/100\n",
      "164/164 - 0s - loss: 0.3972 - accuracy: 0.7940\n",
      "Epoch 8/100\n",
      "164/164 - 0s - loss: 0.3905 - accuracy: 0.7919\n",
      "Epoch 9/100\n",
      "164/164 - 0s - loss: 0.3858 - accuracy: 0.7938\n",
      "Epoch 10/100\n",
      "164/164 - 0s - loss: 0.3827 - accuracy: 0.7927\n",
      "Epoch 11/100\n",
      "164/164 - 0s - loss: 0.3800 - accuracy: 0.7955\n",
      "Epoch 12/100\n",
      "164/164 - 0s - loss: 0.3772 - accuracy: 0.7982\n",
      "Epoch 13/100\n",
      "164/164 - 0s - loss: 0.3752 - accuracy: 0.7990\n",
      "Epoch 14/100\n",
      "164/164 - 0s - loss: 0.3742 - accuracy: 0.7948\n",
      "Epoch 15/100\n",
      "164/164 - 0s - loss: 0.3721 - accuracy: 0.7980\n",
      "Epoch 16/100\n",
      "164/164 - 0s - loss: 0.3707 - accuracy: 0.7982\n",
      "Epoch 17/100\n",
      "164/164 - 0s - loss: 0.3694 - accuracy: 0.8011\n",
      "Epoch 18/100\n",
      "164/164 - 0s - loss: 0.3682 - accuracy: 0.7997\n",
      "Epoch 19/100\n",
      "164/164 - 0s - loss: 0.3670 - accuracy: 0.8041\n",
      "Epoch 20/100\n",
      "164/164 - 0s - loss: 0.3660 - accuracy: 0.8056\n",
      "Epoch 21/100\n",
      "164/164 - 0s - loss: 0.3649 - accuracy: 0.8053\n",
      "Epoch 22/100\n",
      "164/164 - 0s - loss: 0.3643 - accuracy: 0.8056\n",
      "Epoch 23/100\n",
      "164/164 - 0s - loss: 0.3631 - accuracy: 0.8062\n",
      "Epoch 24/100\n",
      "164/164 - 0s - loss: 0.3623 - accuracy: 0.8095\n",
      "Epoch 25/100\n",
      "164/164 - 0s - loss: 0.3619 - accuracy: 0.8119\n",
      "Epoch 26/100\n",
      "164/164 - 0s - loss: 0.3611 - accuracy: 0.8119\n",
      "Epoch 27/100\n",
      "164/164 - 0s - loss: 0.3602 - accuracy: 0.8150\n",
      "Epoch 28/100\n",
      "164/164 - 0s - loss: 0.3602 - accuracy: 0.8121\n",
      "Epoch 29/100\n",
      "164/164 - 0s - loss: 0.3592 - accuracy: 0.8123\n",
      "Epoch 30/100\n",
      "164/164 - 0s - loss: 0.3587 - accuracy: 0.8123\n",
      "Epoch 31/100\n",
      "164/164 - 0s - loss: 0.3583 - accuracy: 0.8121\n",
      "Epoch 32/100\n",
      "164/164 - 0s - loss: 0.3578 - accuracy: 0.8097\n",
      "Epoch 33/100\n",
      "164/164 - 0s - loss: 0.3577 - accuracy: 0.8154\n",
      "Epoch 34/100\n",
      "164/164 - 0s - loss: 0.3564 - accuracy: 0.8138\n",
      "Epoch 35/100\n",
      "164/164 - 0s - loss: 0.3562 - accuracy: 0.8150\n",
      "Epoch 36/100\n",
      "164/164 - 0s - loss: 0.3557 - accuracy: 0.8165\n",
      "Epoch 37/100\n",
      "164/164 - 0s - loss: 0.3558 - accuracy: 0.8165\n",
      "Epoch 38/100\n",
      "164/164 - 0s - loss: 0.3558 - accuracy: 0.8131\n",
      "Epoch 39/100\n",
      "164/164 - 0s - loss: 0.3548 - accuracy: 0.8182\n",
      "Epoch 40/100\n",
      "164/164 - 0s - loss: 0.3545 - accuracy: 0.8169\n",
      "Epoch 41/100\n",
      "164/164 - 0s - loss: 0.3548 - accuracy: 0.8150\n",
      "Epoch 42/100\n",
      "164/164 - 0s - loss: 0.3537 - accuracy: 0.8180\n",
      "Epoch 43/100\n",
      "164/164 - 0s - loss: 0.3534 - accuracy: 0.8175\n",
      "Epoch 44/100\n",
      "164/164 - 0s - loss: 0.3535 - accuracy: 0.8198\n",
      "Epoch 45/100\n",
      "164/164 - 0s - loss: 0.3526 - accuracy: 0.8207\n",
      "Epoch 46/100\n",
      "164/164 - 0s - loss: 0.3525 - accuracy: 0.8194\n",
      "Epoch 47/100\n",
      "164/164 - 0s - loss: 0.3529 - accuracy: 0.8207\n",
      "Epoch 48/100\n",
      "164/164 - 0s - loss: 0.3526 - accuracy: 0.8211\n",
      "Epoch 49/100\n",
      "164/164 - 0s - loss: 0.3523 - accuracy: 0.8207\n",
      "Epoch 50/100\n",
      "164/164 - 0s - loss: 0.3517 - accuracy: 0.8182\n",
      "Epoch 51/100\n",
      "164/164 - 0s - loss: 0.3515 - accuracy: 0.8207\n",
      "Epoch 52/100\n",
      "164/164 - 0s - loss: 0.3519 - accuracy: 0.8171\n",
      "Epoch 53/100\n",
      "164/164 - 0s - loss: 0.3531 - accuracy: 0.8171\n",
      "Epoch 54/100\n",
      "164/164 - 0s - loss: 0.3513 - accuracy: 0.8211\n",
      "Epoch 55/100\n",
      "164/164 - 0s - loss: 0.3512 - accuracy: 0.8201\n",
      "Epoch 56/100\n",
      "164/164 - 0s - loss: 0.3509 - accuracy: 0.8205\n",
      "Epoch 57/100\n",
      "164/164 - 0s - loss: 0.3508 - accuracy: 0.8222\n",
      "Epoch 58/100\n",
      "164/164 - 0s - loss: 0.3503 - accuracy: 0.8220\n",
      "Epoch 59/100\n",
      "164/164 - 0s - loss: 0.3508 - accuracy: 0.8220\n",
      "Epoch 60/100\n",
      "164/164 - 0s - loss: 0.3509 - accuracy: 0.8215\n",
      "Epoch 61/100\n",
      "164/164 - 0s - loss: 0.3501 - accuracy: 0.8201\n",
      "Epoch 62/100\n",
      "164/164 - 0s - loss: 0.3506 - accuracy: 0.8215\n",
      "Epoch 63/100\n",
      "164/164 - 0s - loss: 0.3495 - accuracy: 0.8219\n",
      "Epoch 64/100\n",
      "164/164 - 0s - loss: 0.3498 - accuracy: 0.8201\n",
      "Epoch 65/100\n",
      "164/164 - 0s - loss: 0.3499 - accuracy: 0.8219\n",
      "Epoch 66/100\n",
      "164/164 - 0s - loss: 0.3506 - accuracy: 0.8236\n",
      "Epoch 67/100\n",
      "164/164 - 0s - loss: 0.3494 - accuracy: 0.8196\n",
      "Epoch 68/100\n",
      "164/164 - 0s - loss: 0.3501 - accuracy: 0.8220\n",
      "Epoch 69/100\n",
      "164/164 - 0s - loss: 0.3496 - accuracy: 0.8245\n",
      "Epoch 70/100\n",
      "164/164 - 0s - loss: 0.3498 - accuracy: 0.8220\n",
      "Epoch 71/100\n",
      "164/164 - 0s - loss: 0.3490 - accuracy: 0.8217\n",
      "Epoch 72/100\n",
      "164/164 - 0s - loss: 0.3486 - accuracy: 0.8234\n",
      "Epoch 73/100\n",
      "164/164 - 0s - loss: 0.3506 - accuracy: 0.8171\n",
      "Epoch 74/100\n",
      "164/164 - 0s - loss: 0.3485 - accuracy: 0.8240\n",
      "Epoch 75/100\n",
      "164/164 - 0s - loss: 0.3492 - accuracy: 0.8243\n",
      "Epoch 76/100\n",
      "164/164 - 0s - loss: 0.3490 - accuracy: 0.8253\n",
      "Epoch 77/100\n",
      "164/164 - 0s - loss: 0.3491 - accuracy: 0.8274\n",
      "Epoch 78/100\n",
      "164/164 - 0s - loss: 0.3489 - accuracy: 0.8224\n",
      "Epoch 79/100\n",
      "164/164 - 0s - loss: 0.3489 - accuracy: 0.8249\n",
      "Epoch 80/100\n",
      "164/164 - 0s - loss: 0.3482 - accuracy: 0.8261\n",
      "Epoch 81/100\n",
      "164/164 - 0s - loss: 0.3481 - accuracy: 0.8264\n",
      "Epoch 82/100\n",
      "164/164 - 0s - loss: 0.3486 - accuracy: 0.8213\n",
      "Epoch 83/100\n",
      "164/164 - 0s - loss: 0.3484 - accuracy: 0.8213\n",
      "Epoch 84/100\n",
      "164/164 - 0s - loss: 0.3482 - accuracy: 0.8217\n",
      "Epoch 85/100\n",
      "164/164 - 0s - loss: 0.3477 - accuracy: 0.8241\n",
      "Epoch 86/100\n",
      "164/164 - 0s - loss: 0.3481 - accuracy: 0.8219\n",
      "Epoch 87/100\n",
      "164/164 - 0s - loss: 0.3480 - accuracy: 0.8238\n",
      "Epoch 88/100\n",
      "164/164 - 0s - loss: 0.3478 - accuracy: 0.8234\n",
      "Epoch 89/100\n",
      "164/164 - 0s - loss: 0.3476 - accuracy: 0.8224\n",
      "Epoch 90/100\n",
      "164/164 - 0s - loss: 0.3475 - accuracy: 0.8270\n",
      "Epoch 91/100\n",
      "164/164 - 0s - loss: 0.3485 - accuracy: 0.8182\n",
      "Epoch 92/100\n",
      "164/164 - 0s - loss: 0.3474 - accuracy: 0.8253\n",
      "Epoch 93/100\n",
      "164/164 - 0s - loss: 0.3480 - accuracy: 0.8219\n",
      "Epoch 94/100\n",
      "164/164 - 0s - loss: 0.3472 - accuracy: 0.8241\n",
      "Epoch 95/100\n",
      "164/164 - 0s - loss: 0.3478 - accuracy: 0.8211\n",
      "Epoch 96/100\n",
      "164/164 - 0s - loss: 0.3471 - accuracy: 0.8257\n",
      "Epoch 97/100\n",
      "164/164 - 0s - loss: 0.3470 - accuracy: 0.8220\n",
      "Epoch 98/100\n",
      "164/164 - 0s - loss: 0.3471 - accuracy: 0.8245\n",
      "Epoch 99/100\n",
      "164/164 - 0s - loss: 0.3469 - accuracy: 0.8253\n",
      "Epoch 100/100\n",
      "164/164 - 0s - loss: 0.3472 - accuracy: 0.8238\n"
     ]
    },
    {
     "data": {
      "text/plain": [
       "<tensorflow.python.keras.callbacks.History at 0x188ef8c6d00>"
      ]
     },
     "execution_count": 18,
     "metadata": {},
     "output_type": "execute_result"
    }
   ],
   "source": [
    "#Training the model\n",
    "model.fit(X_train_scaled, y_train_categorical, epochs=100, shuffle=True, verbose=2)"
   ]
  },
  {
   "cell_type": "code",
   "execution_count": 20,
   "metadata": {},
   "outputs": [
    {
     "name": "stdout",
     "output_type": "stream",
     "text": [
      "55/55 - 0s - loss: 0.3721 - accuracy: 0.8072\n",
      "Loss: 0.3721422553062439, Accuracy: 0.807208240032196\n"
     ]
    }
   ],
   "source": [
    "#Quantifying the model\n",
    "model_loss, model_accuracy = model.evaluate(\n",
    "    X_test_scaled, y_test_categorical, verbose=2)\n",
    "print(f\"Loss: {model_loss}, Accuracy: {model_accuracy}\")"
   ]
  },
  {
   "cell_type": "code",
   "execution_count": null,
   "metadata": {},
   "outputs": [],
   "source": []
  }
 ],
 "metadata": {
  "kernel_info": {
   "name": "dev"
  },
  "kernelspec": {
   "display_name": "Python [conda env:PythonData] *",
   "language": "python",
   "name": "conda-env-PythonData-py"
  },
  "language_info": {
   "codemirror_mode": {
    "name": "ipython",
    "version": 3
   },
   "file_extension": ".py",
   "mimetype": "text/x-python",
   "name": "python",
   "nbconvert_exporter": "python",
   "pygments_lexer": "ipython3",
   "version": "3.8.2"
  },
  "nteract": {
   "version": "0.12.3"
  }
 },
 "nbformat": 4,
 "nbformat_minor": 2
}
