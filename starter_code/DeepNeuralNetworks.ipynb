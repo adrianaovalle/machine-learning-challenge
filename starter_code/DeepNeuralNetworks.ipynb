{
 "cells": [
  {
   "cell_type": "code",
   "execution_count": 1,
   "metadata": {},
   "outputs": [],
   "source": [
    "import pandas as pd"
   ]
  },
  {
   "cell_type": "code",
   "execution_count": 2,
   "metadata": {},
   "outputs": [],
   "source": [
    "from numpy.random import seed\n",
    "seed(42)"
   ]
  },
  {
   "cell_type": "markdown",
   "metadata": {},
   "source": [
    "# Read the CSV and Perform Basic Data Cleaning"
   ]
  },
  {
   "cell_type": "code",
   "execution_count": 3,
   "metadata": {},
   "outputs": [],
   "source": [
    "df = pd.read_csv(\"exoplanet_data.csv\")\n",
    "# Drop the null columns where all values are null\n",
    "df = df.dropna(axis='columns', how='all')\n",
    "# Drop the null rows\n",
    "df = df.dropna()\n"
   ]
  },
  {
   "cell_type": "code",
   "execution_count": 4,
   "metadata": {},
   "outputs": [
    {
     "name": "stdout",
     "output_type": "stream",
     "text": [
      "<class 'pandas.core.frame.DataFrame'>\n",
      "Int64Index: 6991 entries, 0 to 6990\n",
      "Data columns (total 41 columns):\n",
      " #   Column             Non-Null Count  Dtype  \n",
      "---  ------             --------------  -----  \n",
      " 0   koi_disposition    6991 non-null   object \n",
      " 1   koi_fpflag_nt      6991 non-null   int64  \n",
      " 2   koi_fpflag_ss      6991 non-null   int64  \n",
      " 3   koi_fpflag_co      6991 non-null   int64  \n",
      " 4   koi_fpflag_ec      6991 non-null   int64  \n",
      " 5   koi_period         6991 non-null   float64\n",
      " 6   koi_period_err1    6991 non-null   float64\n",
      " 7   koi_period_err2    6991 non-null   float64\n",
      " 8   koi_time0bk        6991 non-null   float64\n",
      " 9   koi_time0bk_err1   6991 non-null   float64\n",
      " 10  koi_time0bk_err2   6991 non-null   float64\n",
      " 11  koi_impact         6991 non-null   float64\n",
      " 12  koi_impact_err1    6991 non-null   float64\n",
      " 13  koi_impact_err2    6991 non-null   float64\n",
      " 14  koi_duration       6991 non-null   float64\n",
      " 15  koi_duration_err1  6991 non-null   float64\n",
      " 16  koi_duration_err2  6991 non-null   float64\n",
      " 17  koi_depth          6991 non-null   float64\n",
      " 18  koi_depth_err1     6991 non-null   float64\n",
      " 19  koi_depth_err2     6991 non-null   float64\n",
      " 20  koi_prad           6991 non-null   float64\n",
      " 21  koi_prad_err1      6991 non-null   float64\n",
      " 22  koi_prad_err2      6991 non-null   float64\n",
      " 23  koi_teq            6991 non-null   int64  \n",
      " 24  koi_insol          6991 non-null   float64\n",
      " 25  koi_insol_err1     6991 non-null   float64\n",
      " 26  koi_insol_err2     6991 non-null   float64\n",
      " 27  koi_model_snr      6991 non-null   float64\n",
      " 28  koi_tce_plnt_num   6991 non-null   int64  \n",
      " 29  koi_steff          6991 non-null   int64  \n",
      " 30  koi_steff_err1     6991 non-null   int64  \n",
      " 31  koi_steff_err2     6991 non-null   int64  \n",
      " 32  koi_slogg          6991 non-null   float64\n",
      " 33  koi_slogg_err1     6991 non-null   float64\n",
      " 34  koi_slogg_err2     6991 non-null   float64\n",
      " 35  koi_srad           6991 non-null   float64\n",
      " 36  koi_srad_err1      6991 non-null   float64\n",
      " 37  koi_srad_err2      6991 non-null   float64\n",
      " 38  ra                 6991 non-null   float64\n",
      " 39  dec                6991 non-null   float64\n",
      " 40  koi_kepmag         6991 non-null   float64\n",
      "dtypes: float64(31), int64(9), object(1)\n",
      "memory usage: 2.2+ MB\n"
     ]
    }
   ],
   "source": [
    "df.info()"
   ]
  },
  {
   "cell_type": "markdown",
   "metadata": {},
   "source": [
    "# Select your features (columns)"
   ]
  },
  {
   "cell_type": "code",
   "execution_count": 5,
   "metadata": {},
   "outputs": [],
   "source": [
    "# Set features. This will also be used as your x values.\n",
    "selected_features = df[['koi_fpflag_nt', 'koi_fpflag_ss', 'koi_fpflag_co', 'koi_fpflag_ec', 'koi_period', \n",
    "                        'koi_time0bk', 'koi_impact', 'koi_duration', 'koi_depth','koi_prad', 'koi_teq',\n",
    "                       'koi_insol','koi_model_snr','koi_steff','koi_slogg','koi_srad','ra','dec','koi_kepmag']]"
   ]
  },
  {
   "cell_type": "code",
   "execution_count": 6,
   "metadata": {},
   "outputs": [
    {
     "name": "stdout",
     "output_type": "stream",
     "text": [
      "<class 'pandas.core.frame.DataFrame'>\n",
      "Int64Index: 6991 entries, 0 to 6990\n",
      "Data columns (total 19 columns):\n",
      " #   Column         Non-Null Count  Dtype  \n",
      "---  ------         --------------  -----  \n",
      " 0   koi_fpflag_nt  6991 non-null   int64  \n",
      " 1   koi_fpflag_ss  6991 non-null   int64  \n",
      " 2   koi_fpflag_co  6991 non-null   int64  \n",
      " 3   koi_fpflag_ec  6991 non-null   int64  \n",
      " 4   koi_period     6991 non-null   float64\n",
      " 5   koi_time0bk    6991 non-null   float64\n",
      " 6   koi_impact     6991 non-null   float64\n",
      " 7   koi_duration   6991 non-null   float64\n",
      " 8   koi_depth      6991 non-null   float64\n",
      " 9   koi_prad       6991 non-null   float64\n",
      " 10  koi_teq        6991 non-null   int64  \n",
      " 11  koi_insol      6991 non-null   float64\n",
      " 12  koi_model_snr  6991 non-null   float64\n",
      " 13  koi_steff      6991 non-null   int64  \n",
      " 14  koi_slogg      6991 non-null   float64\n",
      " 15  koi_srad       6991 non-null   float64\n",
      " 16  ra             6991 non-null   float64\n",
      " 17  dec            6991 non-null   float64\n",
      " 18  koi_kepmag     6991 non-null   float64\n",
      "dtypes: float64(13), int64(6)\n",
      "memory usage: 1.1 MB\n"
     ]
    }
   ],
   "source": [
    "selected_features.info()"
   ]
  },
  {
   "cell_type": "markdown",
   "metadata": {},
   "source": [
    "# Create a Train Test Split\n",
    "\n",
    "Use `koi_disposition` for the y values"
   ]
  },
  {
   "cell_type": "code",
   "execution_count": 7,
   "metadata": {},
   "outputs": [
    {
     "data": {
      "text/plain": [
       "0         CONFIRMED\n",
       "1    FALSE POSITIVE\n",
       "2    FALSE POSITIVE\n",
       "3         CONFIRMED\n",
       "4         CONFIRMED\n",
       "Name: koi_disposition, dtype: object"
      ]
     },
     "execution_count": 7,
     "metadata": {},
     "output_type": "execute_result"
    }
   ],
   "source": [
    "target=df['koi_disposition']\n",
    "target.head()"
   ]
  },
  {
   "cell_type": "code",
   "execution_count": 8,
   "metadata": {},
   "outputs": [],
   "source": [
    "from sklearn.model_selection import train_test_split\n",
    "X_train, X_test, y_train, y_test=train_test_split(selected_features,target,random_state=42)"
   ]
  },
  {
   "cell_type": "code",
   "execution_count": 9,
   "metadata": {},
   "outputs": [
    {
     "data": {
      "text/html": [
       "<div>\n",
       "<style scoped>\n",
       "    .dataframe tbody tr th:only-of-type {\n",
       "        vertical-align: middle;\n",
       "    }\n",
       "\n",
       "    .dataframe tbody tr th {\n",
       "        vertical-align: top;\n",
       "    }\n",
       "\n",
       "    .dataframe thead th {\n",
       "        text-align: right;\n",
       "    }\n",
       "</style>\n",
       "<table border=\"1\" class=\"dataframe\">\n",
       "  <thead>\n",
       "    <tr style=\"text-align: right;\">\n",
       "      <th></th>\n",
       "      <th>koi_fpflag_nt</th>\n",
       "      <th>koi_fpflag_ss</th>\n",
       "      <th>koi_fpflag_co</th>\n",
       "      <th>koi_fpflag_ec</th>\n",
       "      <th>koi_period</th>\n",
       "      <th>koi_time0bk</th>\n",
       "      <th>koi_impact</th>\n",
       "      <th>koi_duration</th>\n",
       "      <th>koi_depth</th>\n",
       "      <th>koi_prad</th>\n",
       "      <th>koi_teq</th>\n",
       "      <th>koi_insol</th>\n",
       "      <th>koi_model_snr</th>\n",
       "      <th>koi_steff</th>\n",
       "      <th>koi_slogg</th>\n",
       "      <th>koi_srad</th>\n",
       "      <th>ra</th>\n",
       "      <th>dec</th>\n",
       "      <th>koi_kepmag</th>\n",
       "    </tr>\n",
       "  </thead>\n",
       "  <tbody>\n",
       "    <tr>\n",
       "      <th>6122</th>\n",
       "      <td>0</td>\n",
       "      <td>0</td>\n",
       "      <td>0</td>\n",
       "      <td>0</td>\n",
       "      <td>6.768901</td>\n",
       "      <td>133.077240</td>\n",
       "      <td>0.150</td>\n",
       "      <td>3.61600</td>\n",
       "      <td>123.1</td>\n",
       "      <td>1.24</td>\n",
       "      <td>1017</td>\n",
       "      <td>253.30</td>\n",
       "      <td>10.8</td>\n",
       "      <td>5737</td>\n",
       "      <td>4.327</td>\n",
       "      <td>1.125</td>\n",
       "      <td>294.40472</td>\n",
       "      <td>39.351681</td>\n",
       "      <td>14.725</td>\n",
       "    </tr>\n",
       "    <tr>\n",
       "      <th>6370</th>\n",
       "      <td>0</td>\n",
       "      <td>1</td>\n",
       "      <td>0</td>\n",
       "      <td>1</td>\n",
       "      <td>0.733726</td>\n",
       "      <td>132.020050</td>\n",
       "      <td>0.291</td>\n",
       "      <td>2.30900</td>\n",
       "      <td>114.6</td>\n",
       "      <td>0.86</td>\n",
       "      <td>1867</td>\n",
       "      <td>2891.64</td>\n",
       "      <td>13.8</td>\n",
       "      <td>5855</td>\n",
       "      <td>4.578</td>\n",
       "      <td>0.797</td>\n",
       "      <td>284.50391</td>\n",
       "      <td>42.463860</td>\n",
       "      <td>15.770</td>\n",
       "    </tr>\n",
       "    <tr>\n",
       "      <th>2879</th>\n",
       "      <td>1</td>\n",
       "      <td>0</td>\n",
       "      <td>0</td>\n",
       "      <td>0</td>\n",
       "      <td>7.652707</td>\n",
       "      <td>134.460380</td>\n",
       "      <td>0.970</td>\n",
       "      <td>79.89690</td>\n",
       "      <td>641.1</td>\n",
       "      <td>3.21</td>\n",
       "      <td>989</td>\n",
       "      <td>226.81</td>\n",
       "      <td>254.3</td>\n",
       "      <td>6328</td>\n",
       "      <td>4.481</td>\n",
       "      <td>0.963</td>\n",
       "      <td>295.50211</td>\n",
       "      <td>38.983540</td>\n",
       "      <td>13.099</td>\n",
       "    </tr>\n",
       "    <tr>\n",
       "      <th>107</th>\n",
       "      <td>0</td>\n",
       "      <td>0</td>\n",
       "      <td>0</td>\n",
       "      <td>0</td>\n",
       "      <td>7.953547</td>\n",
       "      <td>174.662240</td>\n",
       "      <td>0.300</td>\n",
       "      <td>2.63120</td>\n",
       "      <td>875.4</td>\n",
       "      <td>2.25</td>\n",
       "      <td>696</td>\n",
       "      <td>55.37</td>\n",
       "      <td>38.4</td>\n",
       "      <td>4768</td>\n",
       "      <td>4.536</td>\n",
       "      <td>0.779</td>\n",
       "      <td>291.15878</td>\n",
       "      <td>40.750271</td>\n",
       "      <td>15.660</td>\n",
       "    </tr>\n",
       "    <tr>\n",
       "      <th>29</th>\n",
       "      <td>0</td>\n",
       "      <td>0</td>\n",
       "      <td>0</td>\n",
       "      <td>0</td>\n",
       "      <td>4.959319</td>\n",
       "      <td>172.258529</td>\n",
       "      <td>0.831</td>\n",
       "      <td>2.22739</td>\n",
       "      <td>9802.0</td>\n",
       "      <td>12.21</td>\n",
       "      <td>1103</td>\n",
       "      <td>349.40</td>\n",
       "      <td>696.5</td>\n",
       "      <td>5712</td>\n",
       "      <td>4.359</td>\n",
       "      <td>1.082</td>\n",
       "      <td>292.16705</td>\n",
       "      <td>48.727589</td>\n",
       "      <td>15.263</td>\n",
       "    </tr>\n",
       "  </tbody>\n",
       "</table>\n",
       "</div>"
      ],
      "text/plain": [
       "      koi_fpflag_nt  koi_fpflag_ss  koi_fpflag_co  koi_fpflag_ec  koi_period  \\\n",
       "6122              0              0              0              0    6.768901   \n",
       "6370              0              1              0              1    0.733726   \n",
       "2879              1              0              0              0    7.652707   \n",
       "107               0              0              0              0    7.953547   \n",
       "29                0              0              0              0    4.959319   \n",
       "\n",
       "      koi_time0bk  koi_impact  koi_duration  koi_depth  koi_prad  koi_teq  \\\n",
       "6122   133.077240       0.150       3.61600      123.1      1.24     1017   \n",
       "6370   132.020050       0.291       2.30900      114.6      0.86     1867   \n",
       "2879   134.460380       0.970      79.89690      641.1      3.21      989   \n",
       "107    174.662240       0.300       2.63120      875.4      2.25      696   \n",
       "29     172.258529       0.831       2.22739     9802.0     12.21     1103   \n",
       "\n",
       "      koi_insol  koi_model_snr  koi_steff  koi_slogg  koi_srad         ra  \\\n",
       "6122     253.30           10.8       5737      4.327     1.125  294.40472   \n",
       "6370    2891.64           13.8       5855      4.578     0.797  284.50391   \n",
       "2879     226.81          254.3       6328      4.481     0.963  295.50211   \n",
       "107       55.37           38.4       4768      4.536     0.779  291.15878   \n",
       "29       349.40          696.5       5712      4.359     1.082  292.16705   \n",
       "\n",
       "            dec  koi_kepmag  \n",
       "6122  39.351681      14.725  \n",
       "6370  42.463860      15.770  \n",
       "2879  38.983540      13.099  \n",
       "107   40.750271      15.660  \n",
       "29    48.727589      15.263  "
      ]
     },
     "execution_count": 9,
     "metadata": {},
     "output_type": "execute_result"
    }
   ],
   "source": [
    "X_train.head()"
   ]
  },
  {
   "cell_type": "markdown",
   "metadata": {},
   "source": [
    "# Pre-processing\n",
    "\n",
    "Scale the data using the MinMaxScaler and perform some feature selection"
   ]
  },
  {
   "cell_type": "code",
   "execution_count": 10,
   "metadata": {},
   "outputs": [],
   "source": [
    "# Scale your data\n",
    "from sklearn.preprocessing import LabelEncoder, MinMaxScaler\n",
    "X_scaler=MinMaxScaler().fit(X_train)\n",
    "X_train_scaled=X_scaler.transform(X_train)\n",
    "X_test_scaled=X_scaler.transform(X_test)"
   ]
  },
  {
   "cell_type": "code",
   "execution_count": 11,
   "metadata": {},
   "outputs": [],
   "source": [
    "#One-hot Encoding\n",
    "from tensorflow.keras.utils import to_categorical\n",
    "\n",
    "#Step1: Label-encode dataset\n",
    "label_encoder=LabelEncoder()\n",
    "label_encoder.fit(y_train)\n",
    "encoded_y_train=label_encoder.transform(y_train)\n",
    "encoded_y_test=label_encoder.transform(y_test)\n"
   ]
  },
  {
   "cell_type": "code",
   "execution_count": 12,
   "metadata": {},
   "outputs": [],
   "source": [
    "#Step2: Convert encoded Labels to one-hot-encoding\n",
    "y_train_categorical=to_categorical(encoded_y_train)\n",
    "y_test_categorical=to_categorical (encoded_y_test)"
   ]
  },
  {
   "cell_type": "code",
   "execution_count": 13,
   "metadata": {},
   "outputs": [
    {
     "name": "stdout",
     "output_type": "stream",
     "text": [
      "['CANDIDATE' 'CONFIRMED' 'FALSE POSITIVE']\n"
     ]
    }
   ],
   "source": [
    "print(label_encoder.classes_)"
   ]
  },
  {
   "cell_type": "markdown",
   "metadata": {},
   "source": [
    "# Train the Model\n",
    "\n"
   ]
  },
  {
   "cell_type": "code",
   "execution_count": 14,
   "metadata": {},
   "outputs": [],
   "source": [
    "from tensorflow.keras.models import Sequential\n",
    "model = Sequential()"
   ]
  },
  {
   "cell_type": "code",
   "execution_count": 23,
   "metadata": {},
   "outputs": [],
   "source": [
    "from tensorflow.keras.layers import Dense\n",
    "model.add(Dense(units=10, activation='relu', input_dim=19))\n",
    "model.add(Dense(units=8, activation='relu'))\n",
    "model.add(Dense(units=3, activation='softmax'))"
   ]
  },
  {
   "cell_type": "code",
   "execution_count": 24,
   "metadata": {},
   "outputs": [
    {
     "name": "stdout",
     "output_type": "stream",
     "text": [
      "Model: \"sequential\"\n",
      "_________________________________________________________________\n",
      "Layer (type)                 Output Shape              Param #   \n",
      "=================================================================\n",
      "dense (Dense)                (None, 15)                300       \n",
      "_________________________________________________________________\n",
      "dense_1 (Dense)              (None, 10)                160       \n",
      "_________________________________________________________________\n",
      "dense_2 (Dense)              (None, 3)                 33        \n",
      "_________________________________________________________________\n",
      "dense_3 (Dense)              (None, 10)                40        \n",
      "_________________________________________________________________\n",
      "dense_4 (Dense)              (None, 10)                110       \n",
      "_________________________________________________________________\n",
      "dense_5 (Dense)              (None, 3)                 33        \n",
      "_________________________________________________________________\n",
      "dense_6 (Dense)              (None, 10)                40        \n",
      "_________________________________________________________________\n",
      "dense_7 (Dense)              (None, 8)                 88        \n",
      "_________________________________________________________________\n",
      "dense_8 (Dense)              (None, 3)                 27        \n",
      "=================================================================\n",
      "Total params: 831\n",
      "Trainable params: 831\n",
      "Non-trainable params: 0\n",
      "_________________________________________________________________\n"
     ]
    }
   ],
   "source": [
    "model.summary()"
   ]
  },
  {
   "cell_type": "code",
   "execution_count": 25,
   "metadata": {},
   "outputs": [],
   "source": [
    "# Compile the model\n",
    "model.compile(optimizer='adam',\n",
    "              loss='categorical_crossentropy',\n",
    "              metrics=['accuracy'])"
   ]
  },
  {
   "cell_type": "code",
   "execution_count": 26,
   "metadata": {},
   "outputs": [
    {
     "name": "stdout",
     "output_type": "stream",
     "text": [
      "Epoch 1/100\n",
      "164/164 - 0s - loss: 0.7971 - accuracy: 0.7583\n",
      "Epoch 2/100\n",
      "164/164 - 0s - loss: 0.4580 - accuracy: 0.8613\n",
      "Epoch 3/100\n",
      "164/164 - 0s - loss: 0.3443 - accuracy: 0.8653\n",
      "Epoch 4/100\n",
      "164/164 - 0s - loss: 0.3198 - accuracy: 0.8655\n",
      "Epoch 5/100\n",
      "164/164 - 0s - loss: 0.3084 - accuracy: 0.8693\n",
      "Epoch 6/100\n",
      "164/164 - 0s - loss: 0.3052 - accuracy: 0.8631\n",
      "Epoch 7/100\n",
      "164/164 - 0s - loss: 0.3052 - accuracy: 0.8692\n",
      "Epoch 8/100\n",
      "164/164 - 0s - loss: 0.3004 - accuracy: 0.8697\n",
      "Epoch 9/100\n",
      "164/164 - 0s - loss: 0.2987 - accuracy: 0.8671\n",
      "Epoch 10/100\n",
      "164/164 - 0s - loss: 0.2921 - accuracy: 0.8734\n",
      "Epoch 11/100\n",
      "164/164 - 0s - loss: 0.2902 - accuracy: 0.8735\n",
      "Epoch 12/100\n",
      "164/164 - 0s - loss: 0.2917 - accuracy: 0.8745\n",
      "Epoch 13/100\n",
      "164/164 - 0s - loss: 0.2899 - accuracy: 0.8701\n",
      "Epoch 14/100\n",
      "164/164 - 0s - loss: 0.2917 - accuracy: 0.8682\n",
      "Epoch 15/100\n",
      "164/164 - 0s - loss: 0.2915 - accuracy: 0.8703\n",
      "Epoch 16/100\n",
      "164/164 - 0s - loss: 0.2867 - accuracy: 0.8751\n",
      "Epoch 17/100\n",
      "164/164 - 0s - loss: 0.2870 - accuracy: 0.8747\n",
      "Epoch 18/100\n",
      "164/164 - 0s - loss: 0.2867 - accuracy: 0.8718\n",
      "Epoch 19/100\n",
      "164/164 - 0s - loss: 0.2856 - accuracy: 0.8739\n",
      "Epoch 20/100\n",
      "164/164 - 0s - loss: 0.2850 - accuracy: 0.8766\n",
      "Epoch 21/100\n",
      "164/164 - 0s - loss: 0.2834 - accuracy: 0.8714\n",
      "Epoch 22/100\n",
      "164/164 - 0s - loss: 0.2794 - accuracy: 0.8779\n",
      "Epoch 23/100\n",
      "164/164 - 0s - loss: 0.2810 - accuracy: 0.8772\n",
      "Epoch 24/100\n",
      "164/164 - 0s - loss: 0.2808 - accuracy: 0.8747\n",
      "Epoch 25/100\n",
      "164/164 - 0s - loss: 0.2865 - accuracy: 0.8720\n",
      "Epoch 26/100\n",
      "164/164 - 0s - loss: 0.2806 - accuracy: 0.8753\n",
      "Epoch 27/100\n",
      "164/164 - 0s - loss: 0.2869 - accuracy: 0.8705\n",
      "Epoch 28/100\n",
      "164/164 - 0s - loss: 0.2823 - accuracy: 0.8707\n",
      "Epoch 29/100\n",
      "164/164 - 0s - loss: 0.2811 - accuracy: 0.8770\n",
      "Epoch 30/100\n",
      "164/164 - 0s - loss: 0.2799 - accuracy: 0.8764\n",
      "Epoch 31/100\n",
      "164/164 - 0s - loss: 0.2772 - accuracy: 0.8772\n",
      "Epoch 32/100\n",
      "164/164 - 0s - loss: 0.2804 - accuracy: 0.8756\n",
      "Epoch 33/100\n",
      "164/164 - 0s - loss: 0.2746 - accuracy: 0.8823\n",
      "Epoch 34/100\n",
      "164/164 - 0s - loss: 0.2715 - accuracy: 0.8840\n",
      "Epoch 35/100\n",
      "164/164 - 0s - loss: 0.2779 - accuracy: 0.8762\n",
      "Epoch 36/100\n",
      "164/164 - 0s - loss: 0.2731 - accuracy: 0.8810\n",
      "Epoch 37/100\n",
      "164/164 - 0s - loss: 0.2724 - accuracy: 0.8831\n",
      "Epoch 38/100\n",
      "164/164 - 0s - loss: 0.2759 - accuracy: 0.8795\n",
      "Epoch 39/100\n",
      "164/164 - 0s - loss: 0.2704 - accuracy: 0.8833\n",
      "Epoch 40/100\n",
      "164/164 - 0s - loss: 0.2701 - accuracy: 0.8842\n",
      "Epoch 41/100\n",
      "164/164 - 0s - loss: 0.2760 - accuracy: 0.8770\n",
      "Epoch 42/100\n",
      "164/164 - 0s - loss: 0.2691 - accuracy: 0.8844\n",
      "Epoch 43/100\n",
      "164/164 - 0s - loss: 0.2720 - accuracy: 0.8856\n",
      "Epoch 44/100\n",
      "164/164 - 0s - loss: 0.2741 - accuracy: 0.8798\n",
      "Epoch 45/100\n",
      "164/164 - 0s - loss: 0.2673 - accuracy: 0.8869\n",
      "Epoch 46/100\n",
      "164/164 - 0s - loss: 0.2708 - accuracy: 0.8844\n",
      "Epoch 47/100\n",
      "164/164 - 0s - loss: 0.2692 - accuracy: 0.8816\n",
      "Epoch 48/100\n",
      "164/164 - 0s - loss: 0.2647 - accuracy: 0.8856\n",
      "Epoch 49/100\n",
      "164/164 - 0s - loss: 0.2718 - accuracy: 0.8795\n",
      "Epoch 50/100\n",
      "164/164 - 0s - loss: 0.2675 - accuracy: 0.8829\n",
      "Epoch 51/100\n",
      "164/164 - 0s - loss: 0.2702 - accuracy: 0.8840\n",
      "Epoch 52/100\n",
      "164/164 - 0s - loss: 0.2682 - accuracy: 0.8894\n",
      "Epoch 53/100\n",
      "164/164 - 0s - loss: 0.2680 - accuracy: 0.8859\n",
      "Epoch 54/100\n",
      "164/164 - 0s - loss: 0.2760 - accuracy: 0.8795\n",
      "Epoch 55/100\n",
      "164/164 - 0s - loss: 0.2707 - accuracy: 0.8856\n",
      "Epoch 56/100\n",
      "164/164 - 0s - loss: 0.2687 - accuracy: 0.8829\n",
      "Epoch 57/100\n",
      "164/164 - 0s - loss: 0.2642 - accuracy: 0.8844\n",
      "Epoch 58/100\n",
      "164/164 - 0s - loss: 0.2658 - accuracy: 0.8848\n",
      "Epoch 59/100\n",
      "164/164 - 0s - loss: 0.2661 - accuracy: 0.8827\n",
      "Epoch 60/100\n",
      "164/164 - 0s - loss: 0.2650 - accuracy: 0.8861\n",
      "Epoch 61/100\n",
      "164/164 - 0s - loss: 0.2641 - accuracy: 0.8861\n",
      "Epoch 62/100\n",
      "164/164 - 0s - loss: 0.2594 - accuracy: 0.8875\n",
      "Epoch 63/100\n",
      "164/164 - 0s - loss: 0.2600 - accuracy: 0.8919\n",
      "Epoch 64/100\n",
      "164/164 - 0s - loss: 0.2659 - accuracy: 0.8846\n",
      "Epoch 65/100\n",
      "164/164 - 0s - loss: 0.2642 - accuracy: 0.8856\n",
      "Epoch 66/100\n",
      "164/164 - 0s - loss: 0.2667 - accuracy: 0.8888\n",
      "Epoch 67/100\n",
      "164/164 - 0s - loss: 0.2710 - accuracy: 0.8825\n",
      "Epoch 68/100\n",
      "164/164 - 0s - loss: 0.2633 - accuracy: 0.8879\n",
      "Epoch 69/100\n",
      "164/164 - 0s - loss: 0.2647 - accuracy: 0.8835\n",
      "Epoch 70/100\n",
      "164/164 - 0s - loss: 0.2610 - accuracy: 0.8888\n",
      "Epoch 71/100\n",
      "164/164 - 0s - loss: 0.2631 - accuracy: 0.8879\n",
      "Epoch 72/100\n",
      "164/164 - 0s - loss: 0.2549 - accuracy: 0.8930\n",
      "Epoch 73/100\n",
      "164/164 - 0s - loss: 0.2615 - accuracy: 0.8899\n",
      "Epoch 74/100\n",
      "164/164 - 0s - loss: 0.2623 - accuracy: 0.8899\n",
      "Epoch 75/100\n",
      "164/164 - 0s - loss: 0.2570 - accuracy: 0.8936\n",
      "Epoch 76/100\n",
      "164/164 - 0s - loss: 0.2565 - accuracy: 0.8917\n",
      "Epoch 77/100\n",
      "164/164 - 0s - loss: 0.2572 - accuracy: 0.8899\n",
      "Epoch 78/100\n",
      "164/164 - 0s - loss: 0.2538 - accuracy: 0.8962\n",
      "Epoch 79/100\n",
      "164/164 - 0s - loss: 0.2584 - accuracy: 0.8915\n",
      "Epoch 80/100\n",
      "164/164 - 0s - loss: 0.2613 - accuracy: 0.8879\n",
      "Epoch 81/100\n",
      "164/164 - 0s - loss: 0.2556 - accuracy: 0.8882\n",
      "Epoch 82/100\n",
      "164/164 - 0s - loss: 0.2536 - accuracy: 0.8945\n",
      "Epoch 83/100\n",
      "164/164 - 0s - loss: 0.2594 - accuracy: 0.8880\n",
      "Epoch 84/100\n",
      "164/164 - 0s - loss: 0.2559 - accuracy: 0.8922\n",
      "Epoch 85/100\n",
      "164/164 - 0s - loss: 0.2620 - accuracy: 0.8898\n",
      "Epoch 86/100\n",
      "164/164 - 0s - loss: 0.2533 - accuracy: 0.8943\n",
      "Epoch 87/100\n",
      "164/164 - 0s - loss: 0.2535 - accuracy: 0.8938\n",
      "Epoch 88/100\n",
      "164/164 - 0s - loss: 0.2558 - accuracy: 0.8898\n",
      "Epoch 89/100\n",
      "164/164 - 0s - loss: 0.2503 - accuracy: 0.8913\n",
      "Epoch 90/100\n",
      "164/164 - 0s - loss: 0.2551 - accuracy: 0.8920\n",
      "Epoch 91/100\n",
      "164/164 - 0s - loss: 0.2511 - accuracy: 0.8924\n",
      "Epoch 92/100\n",
      "164/164 - 0s - loss: 0.2573 - accuracy: 0.8913\n",
      "Epoch 93/100\n",
      "164/164 - 0s - loss: 0.2521 - accuracy: 0.8922\n",
      "Epoch 94/100\n",
      "164/164 - 0s - loss: 0.2576 - accuracy: 0.8901\n",
      "Epoch 95/100\n",
      "164/164 - 0s - loss: 0.2582 - accuracy: 0.8894\n",
      "Epoch 96/100\n",
      "164/164 - 0s - loss: 0.2529 - accuracy: 0.8913\n",
      "Epoch 97/100\n",
      "164/164 - 0s - loss: 0.2545 - accuracy: 0.8892\n",
      "Epoch 98/100\n",
      "164/164 - 0s - loss: 0.2591 - accuracy: 0.8869\n",
      "Epoch 99/100\n",
      "164/164 - 0s - loss: 0.2493 - accuracy: 0.8911\n",
      "Epoch 100/100\n",
      "164/164 - 0s - loss: 0.2579 - accuracy: 0.8911\n"
     ]
    },
    {
     "data": {
      "text/plain": [
       "<tensorflow.python.keras.callbacks.History at 0x204f8fd5eb0>"
      ]
     },
     "execution_count": 26,
     "metadata": {},
     "output_type": "execute_result"
    }
   ],
   "source": [
    "#Training the model\n",
    "model.fit(X_train_scaled, y_train_categorical, epochs=100, shuffle=True, verbose=2)"
   ]
  },
  {
   "cell_type": "code",
   "execution_count": 27,
   "metadata": {},
   "outputs": [
    {
     "name": "stdout",
     "output_type": "stream",
     "text": [
      "55/55 - 0s - loss: 0.2657 - accuracy: 0.8982\n",
      "Loss: 0.26571956276893616, Accuracy: 0.8981693387031555\n"
     ]
    }
   ],
   "source": [
    "#Quantifying the model\n",
    "model_loss, model_accuracy = model.evaluate(\n",
    "    X_test_scaled, y_test_categorical, verbose=2)\n",
    "print(f\"Loss: {model_loss}, Accuracy: {model_accuracy}\")"
   ]
  },
  {
   "cell_type": "code",
   "execution_count": null,
   "metadata": {},
   "outputs": [],
   "source": []
  }
 ],
 "metadata": {
  "kernel_info": {
   "name": "dev"
  },
  "kernelspec": {
   "display_name": "Python [conda env:PythonData] *",
   "language": "python",
   "name": "conda-env-PythonData-py"
  },
  "language_info": {
   "codemirror_mode": {
    "name": "ipython",
    "version": 3
   },
   "file_extension": ".py",
   "mimetype": "text/x-python",
   "name": "python",
   "nbconvert_exporter": "python",
   "pygments_lexer": "ipython3",
   "version": "3.8.2"
  },
  "nteract": {
   "version": "0.12.3"
  }
 },
 "nbformat": 4,
 "nbformat_minor": 2
}
