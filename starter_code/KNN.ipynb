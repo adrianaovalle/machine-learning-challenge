{
 "cells": [
  {
   "cell_type": "code",
   "execution_count": 1,
   "metadata": {},
   "outputs": [],
   "source": [
    "import pandas as pd\n",
    "import matplotlib.pyplot as plt"
   ]
  },
  {
   "cell_type": "markdown",
   "metadata": {},
   "source": [
    "# Read the CSV and Perform Basic Data Cleaning"
   ]
  },
  {
   "cell_type": "code",
   "execution_count": 2,
   "metadata": {},
   "outputs": [],
   "source": [
    "df = pd.read_csv(\"exoplanet_data.csv\")\n",
    "# Drop the null columns where all values are null\n",
    "df = df.dropna(axis='columns', how='all')\n",
    "# Drop the null rows\n",
    "df = df.dropna()\n"
   ]
  },
  {
   "cell_type": "code",
   "execution_count": 3,
   "metadata": {},
   "outputs": [
    {
     "name": "stdout",
     "output_type": "stream",
     "text": [
      "<class 'pandas.core.frame.DataFrame'>\n",
      "Int64Index: 6991 entries, 0 to 6990\n",
      "Data columns (total 41 columns):\n",
      " #   Column             Non-Null Count  Dtype  \n",
      "---  ------             --------------  -----  \n",
      " 0   koi_disposition    6991 non-null   object \n",
      " 1   koi_fpflag_nt      6991 non-null   int64  \n",
      " 2   koi_fpflag_ss      6991 non-null   int64  \n",
      " 3   koi_fpflag_co      6991 non-null   int64  \n",
      " 4   koi_fpflag_ec      6991 non-null   int64  \n",
      " 5   koi_period         6991 non-null   float64\n",
      " 6   koi_period_err1    6991 non-null   float64\n",
      " 7   koi_period_err2    6991 non-null   float64\n",
      " 8   koi_time0bk        6991 non-null   float64\n",
      " 9   koi_time0bk_err1   6991 non-null   float64\n",
      " 10  koi_time0bk_err2   6991 non-null   float64\n",
      " 11  koi_impact         6991 non-null   float64\n",
      " 12  koi_impact_err1    6991 non-null   float64\n",
      " 13  koi_impact_err2    6991 non-null   float64\n",
      " 14  koi_duration       6991 non-null   float64\n",
      " 15  koi_duration_err1  6991 non-null   float64\n",
      " 16  koi_duration_err2  6991 non-null   float64\n",
      " 17  koi_depth          6991 non-null   float64\n",
      " 18  koi_depth_err1     6991 non-null   float64\n",
      " 19  koi_depth_err2     6991 non-null   float64\n",
      " 20  koi_prad           6991 non-null   float64\n",
      " 21  koi_prad_err1      6991 non-null   float64\n",
      " 22  koi_prad_err2      6991 non-null   float64\n",
      " 23  koi_teq            6991 non-null   int64  \n",
      " 24  koi_insol          6991 non-null   float64\n",
      " 25  koi_insol_err1     6991 non-null   float64\n",
      " 26  koi_insol_err2     6991 non-null   float64\n",
      " 27  koi_model_snr      6991 non-null   float64\n",
      " 28  koi_tce_plnt_num   6991 non-null   int64  \n",
      " 29  koi_steff          6991 non-null   int64  \n",
      " 30  koi_steff_err1     6991 non-null   int64  \n",
      " 31  koi_steff_err2     6991 non-null   int64  \n",
      " 32  koi_slogg          6991 non-null   float64\n",
      " 33  koi_slogg_err1     6991 non-null   float64\n",
      " 34  koi_slogg_err2     6991 non-null   float64\n",
      " 35  koi_srad           6991 non-null   float64\n",
      " 36  koi_srad_err1      6991 non-null   float64\n",
      " 37  koi_srad_err2      6991 non-null   float64\n",
      " 38  ra                 6991 non-null   float64\n",
      " 39  dec                6991 non-null   float64\n",
      " 40  koi_kepmag         6991 non-null   float64\n",
      "dtypes: float64(31), int64(9), object(1)\n",
      "memory usage: 2.2+ MB\n"
     ]
    }
   ],
   "source": [
    "df.info()"
   ]
  },
  {
   "cell_type": "markdown",
   "metadata": {},
   "source": [
    "# Select your features (columns)"
   ]
  },
  {
   "cell_type": "code",
   "execution_count": 4,
   "metadata": {},
   "outputs": [],
   "source": [
    "# Set features. This will also be used as your x values.\n",
    "selected_features = df[['koi_fpflag_nt', 'koi_fpflag_ss', 'koi_fpflag_co', 'koi_fpflag_ec', 'koi_period', \n",
    "                        'koi_time0bk', 'koi_impact', 'koi_duration', 'koi_depth','koi_prad', 'koi_teq',\n",
    "                       'koi_insol','koi_model_snr','koi_steff','koi_slogg','koi_srad','ra','dec','koi_kepmag']]"
   ]
  },
  {
   "cell_type": "code",
   "execution_count": 5,
   "metadata": {},
   "outputs": [
    {
     "name": "stdout",
     "output_type": "stream",
     "text": [
      "<class 'pandas.core.frame.DataFrame'>\n",
      "Int64Index: 6991 entries, 0 to 6990\n",
      "Data columns (total 19 columns):\n",
      " #   Column         Non-Null Count  Dtype  \n",
      "---  ------         --------------  -----  \n",
      " 0   koi_fpflag_nt  6991 non-null   int64  \n",
      " 1   koi_fpflag_ss  6991 non-null   int64  \n",
      " 2   koi_fpflag_co  6991 non-null   int64  \n",
      " 3   koi_fpflag_ec  6991 non-null   int64  \n",
      " 4   koi_period     6991 non-null   float64\n",
      " 5   koi_time0bk    6991 non-null   float64\n",
      " 6   koi_impact     6991 non-null   float64\n",
      " 7   koi_duration   6991 non-null   float64\n",
      " 8   koi_depth      6991 non-null   float64\n",
      " 9   koi_prad       6991 non-null   float64\n",
      " 10  koi_teq        6991 non-null   int64  \n",
      " 11  koi_insol      6991 non-null   float64\n",
      " 12  koi_model_snr  6991 non-null   float64\n",
      " 13  koi_steff      6991 non-null   int64  \n",
      " 14  koi_slogg      6991 non-null   float64\n",
      " 15  koi_srad       6991 non-null   float64\n",
      " 16  ra             6991 non-null   float64\n",
      " 17  dec            6991 non-null   float64\n",
      " 18  koi_kepmag     6991 non-null   float64\n",
      "dtypes: float64(13), int64(6)\n",
      "memory usage: 1.1 MB\n"
     ]
    }
   ],
   "source": [
    "selected_features.info()"
   ]
  },
  {
   "cell_type": "markdown",
   "metadata": {},
   "source": [
    "# Create a Train Test Split\n",
    "\n",
    "Use `koi_disposition` for the y values"
   ]
  },
  {
   "cell_type": "code",
   "execution_count": 6,
   "metadata": {},
   "outputs": [
    {
     "data": {
      "text/plain": [
       "0         CONFIRMED\n",
       "1    FALSE POSITIVE\n",
       "2    FALSE POSITIVE\n",
       "3         CONFIRMED\n",
       "4         CONFIRMED\n",
       "Name: koi_disposition, dtype: object"
      ]
     },
     "execution_count": 6,
     "metadata": {},
     "output_type": "execute_result"
    }
   ],
   "source": [
    "target=df['koi_disposition']\n",
    "target.head()"
   ]
  },
  {
   "cell_type": "code",
   "execution_count": 7,
   "metadata": {},
   "outputs": [],
   "source": [
    "from sklearn.model_selection import train_test_split\n",
    "X_train, X_test, y_train, y_test=train_test_split(selected_features,target,random_state=42)"
   ]
  },
  {
   "cell_type": "code",
   "execution_count": 8,
   "metadata": {},
   "outputs": [
    {
     "data": {
      "text/html": [
       "<div>\n",
       "<style scoped>\n",
       "    .dataframe tbody tr th:only-of-type {\n",
       "        vertical-align: middle;\n",
       "    }\n",
       "\n",
       "    .dataframe tbody tr th {\n",
       "        vertical-align: top;\n",
       "    }\n",
       "\n",
       "    .dataframe thead th {\n",
       "        text-align: right;\n",
       "    }\n",
       "</style>\n",
       "<table border=\"1\" class=\"dataframe\">\n",
       "  <thead>\n",
       "    <tr style=\"text-align: right;\">\n",
       "      <th></th>\n",
       "      <th>koi_fpflag_nt</th>\n",
       "      <th>koi_fpflag_ss</th>\n",
       "      <th>koi_fpflag_co</th>\n",
       "      <th>koi_fpflag_ec</th>\n",
       "      <th>koi_period</th>\n",
       "      <th>koi_time0bk</th>\n",
       "      <th>koi_impact</th>\n",
       "      <th>koi_duration</th>\n",
       "      <th>koi_depth</th>\n",
       "      <th>koi_prad</th>\n",
       "      <th>koi_teq</th>\n",
       "      <th>koi_insol</th>\n",
       "      <th>koi_model_snr</th>\n",
       "      <th>koi_steff</th>\n",
       "      <th>koi_slogg</th>\n",
       "      <th>koi_srad</th>\n",
       "      <th>ra</th>\n",
       "      <th>dec</th>\n",
       "      <th>koi_kepmag</th>\n",
       "    </tr>\n",
       "  </thead>\n",
       "  <tbody>\n",
       "    <tr>\n",
       "      <th>6122</th>\n",
       "      <td>0</td>\n",
       "      <td>0</td>\n",
       "      <td>0</td>\n",
       "      <td>0</td>\n",
       "      <td>6.768901</td>\n",
       "      <td>133.077240</td>\n",
       "      <td>0.150</td>\n",
       "      <td>3.61600</td>\n",
       "      <td>123.1</td>\n",
       "      <td>1.24</td>\n",
       "      <td>1017</td>\n",
       "      <td>253.30</td>\n",
       "      <td>10.8</td>\n",
       "      <td>5737</td>\n",
       "      <td>4.327</td>\n",
       "      <td>1.125</td>\n",
       "      <td>294.40472</td>\n",
       "      <td>39.351681</td>\n",
       "      <td>14.725</td>\n",
       "    </tr>\n",
       "    <tr>\n",
       "      <th>6370</th>\n",
       "      <td>0</td>\n",
       "      <td>1</td>\n",
       "      <td>0</td>\n",
       "      <td>1</td>\n",
       "      <td>0.733726</td>\n",
       "      <td>132.020050</td>\n",
       "      <td>0.291</td>\n",
       "      <td>2.30900</td>\n",
       "      <td>114.6</td>\n",
       "      <td>0.86</td>\n",
       "      <td>1867</td>\n",
       "      <td>2891.64</td>\n",
       "      <td>13.8</td>\n",
       "      <td>5855</td>\n",
       "      <td>4.578</td>\n",
       "      <td>0.797</td>\n",
       "      <td>284.50391</td>\n",
       "      <td>42.463860</td>\n",
       "      <td>15.770</td>\n",
       "    </tr>\n",
       "    <tr>\n",
       "      <th>2879</th>\n",
       "      <td>1</td>\n",
       "      <td>0</td>\n",
       "      <td>0</td>\n",
       "      <td>0</td>\n",
       "      <td>7.652707</td>\n",
       "      <td>134.460380</td>\n",
       "      <td>0.970</td>\n",
       "      <td>79.89690</td>\n",
       "      <td>641.1</td>\n",
       "      <td>3.21</td>\n",
       "      <td>989</td>\n",
       "      <td>226.81</td>\n",
       "      <td>254.3</td>\n",
       "      <td>6328</td>\n",
       "      <td>4.481</td>\n",
       "      <td>0.963</td>\n",
       "      <td>295.50211</td>\n",
       "      <td>38.983540</td>\n",
       "      <td>13.099</td>\n",
       "    </tr>\n",
       "    <tr>\n",
       "      <th>107</th>\n",
       "      <td>0</td>\n",
       "      <td>0</td>\n",
       "      <td>0</td>\n",
       "      <td>0</td>\n",
       "      <td>7.953547</td>\n",
       "      <td>174.662240</td>\n",
       "      <td>0.300</td>\n",
       "      <td>2.63120</td>\n",
       "      <td>875.4</td>\n",
       "      <td>2.25</td>\n",
       "      <td>696</td>\n",
       "      <td>55.37</td>\n",
       "      <td>38.4</td>\n",
       "      <td>4768</td>\n",
       "      <td>4.536</td>\n",
       "      <td>0.779</td>\n",
       "      <td>291.15878</td>\n",
       "      <td>40.750271</td>\n",
       "      <td>15.660</td>\n",
       "    </tr>\n",
       "    <tr>\n",
       "      <th>29</th>\n",
       "      <td>0</td>\n",
       "      <td>0</td>\n",
       "      <td>0</td>\n",
       "      <td>0</td>\n",
       "      <td>4.959319</td>\n",
       "      <td>172.258529</td>\n",
       "      <td>0.831</td>\n",
       "      <td>2.22739</td>\n",
       "      <td>9802.0</td>\n",
       "      <td>12.21</td>\n",
       "      <td>1103</td>\n",
       "      <td>349.40</td>\n",
       "      <td>696.5</td>\n",
       "      <td>5712</td>\n",
       "      <td>4.359</td>\n",
       "      <td>1.082</td>\n",
       "      <td>292.16705</td>\n",
       "      <td>48.727589</td>\n",
       "      <td>15.263</td>\n",
       "    </tr>\n",
       "  </tbody>\n",
       "</table>\n",
       "</div>"
      ],
      "text/plain": [
       "      koi_fpflag_nt  koi_fpflag_ss  koi_fpflag_co  koi_fpflag_ec  koi_period  \\\n",
       "6122              0              0              0              0    6.768901   \n",
       "6370              0              1              0              1    0.733726   \n",
       "2879              1              0              0              0    7.652707   \n",
       "107               0              0              0              0    7.953547   \n",
       "29                0              0              0              0    4.959319   \n",
       "\n",
       "      koi_time0bk  koi_impact  koi_duration  koi_depth  koi_prad  koi_teq  \\\n",
       "6122   133.077240       0.150       3.61600      123.1      1.24     1017   \n",
       "6370   132.020050       0.291       2.30900      114.6      0.86     1867   \n",
       "2879   134.460380       0.970      79.89690      641.1      3.21      989   \n",
       "107    174.662240       0.300       2.63120      875.4      2.25      696   \n",
       "29     172.258529       0.831       2.22739     9802.0     12.21     1103   \n",
       "\n",
       "      koi_insol  koi_model_snr  koi_steff  koi_slogg  koi_srad         ra  \\\n",
       "6122     253.30           10.8       5737      4.327     1.125  294.40472   \n",
       "6370    2891.64           13.8       5855      4.578     0.797  284.50391   \n",
       "2879     226.81          254.3       6328      4.481     0.963  295.50211   \n",
       "107       55.37           38.4       4768      4.536     0.779  291.15878   \n",
       "29       349.40          696.5       5712      4.359     1.082  292.16705   \n",
       "\n",
       "            dec  koi_kepmag  \n",
       "6122  39.351681      14.725  \n",
       "6370  42.463860      15.770  \n",
       "2879  38.983540      13.099  \n",
       "107   40.750271      15.660  \n",
       "29    48.727589      15.263  "
      ]
     },
     "execution_count": 8,
     "metadata": {},
     "output_type": "execute_result"
    }
   ],
   "source": [
    "X_train.head()"
   ]
  },
  {
   "cell_type": "markdown",
   "metadata": {},
   "source": [
    "# Pre-processing\n",
    "\n",
    "Scale the data using the MinMaxScaler and perform some feature selection"
   ]
  },
  {
   "cell_type": "code",
   "execution_count": 9,
   "metadata": {},
   "outputs": [],
   "source": [
    "# Scale your data\n",
    "from sklearn.preprocessing import LabelEncoder, MinMaxScaler\n",
    "X_scaler=MinMaxScaler().fit(X_train)\n",
    "X_train_scaled=X_scaler.transform(X_train)\n",
    "X_test_scaled=X_scaler.transform(X_test)"
   ]
  },
  {
   "cell_type": "markdown",
   "metadata": {},
   "source": [
    "# Train the Model\n",
    "\n"
   ]
  },
  {
   "cell_type": "code",
   "execution_count": 10,
   "metadata": {},
   "outputs": [
    {
     "name": "stdout",
     "output_type": "stream",
     "text": [
      "k: 1, Train/Test Score: 1.000/0.794\n",
      "k: 3, Train/Test Score: 0.891/0.796\n",
      "k: 5, Train/Test Score: 0.863/0.795\n",
      "k: 7, Train/Test Score: 0.844/0.800\n",
      "k: 9, Train/Test Score: 0.836/0.804\n",
      "k: 11, Train/Test Score: 0.834/0.795\n",
      "k: 13, Train/Test Score: 0.831/0.795\n",
      "k: 15, Train/Test Score: 0.830/0.794\n",
      "k: 17, Train/Test Score: 0.826/0.797\n",
      "k: 19, Train/Test Score: 0.818/0.792\n",
      "k: 21, Train/Test Score: 0.823/0.792\n",
      "k: 23, Train/Test Score: 0.821/0.799\n",
      "k: 25, Train/Test Score: 0.817/0.792\n",
      "k: 27, Train/Test Score: 0.815/0.788\n",
      "k: 29, Train/Test Score: 0.813/0.791\n"
     ]
    },
    {
     "data": {
      "image/png": "[encoded data removed]",
      "text/plain": [
       "<Figure size 432x288 with 1 Axes>"
      ]
     },
     "metadata": {
      "needs_background": "light"
     },
     "output_type": "display_data"
    }
   ],
   "source": [
    "from sklearn.neighbors import KNeighborsClassifier\n",
    "\n",
    "#Loop thru k values\n",
    "train_scores = []\n",
    "test_scores = []\n",
    "for k in range(1, 30, 2):\n",
    "    knn = KNeighborsClassifier(n_neighbors=k)\n",
    "    knn.fit(X_train_scaled, y_train)\n",
    "    train_score = knn.score(X_train_scaled, y_train)\n",
    "    test_score = knn.score(X_test_scaled, y_test)\n",
    "    train_scores.append(train_score)\n",
    "    test_scores.append(test_score)\n",
    "    print(f\"k: {k}, Train/Test Score: {train_score:.3f}/{test_score:.3f}\")\n",
    "    \n",
    "    \n",
    "plt.plot(range(1, 30, 2), train_scores, marker='o')\n",
    "plt.plot(range(1, 30, 2), test_scores, marker=\"x\")\n",
    "plt.xlabel(\"k neighbors\")\n",
    "plt.ylabel(\"Testing accuracy Score\")\n",
    "plt.show()"
   ]
  },
  {
   "cell_type": "code",
   "execution_count": 11,
   "metadata": {},
   "outputs": [
    {
     "name": "stdout",
     "output_type": "stream",
     "text": [
      "k=11 Test Acc: 0.795\n"
     ]
    }
   ],
   "source": [
    "knn = KNeighborsClassifier(n_neighbors=11)\n",
    "knn.fit(X_train_scaled, y_train)\n",
    "print('k=11 Test Acc: %.3f' % knn.score(X_test_scaled, y_test))"
   ]
  },
  {
   "cell_type": "code",
   "execution_count": 12,
   "metadata": {},
   "outputs": [
    {
     "name": "stdout",
     "output_type": "stream",
     "text": [
      "Training Data Score: 0.8342551974060652\n",
      "Testing Data Score: 0.7946224256292906\n"
     ]
    }
   ],
   "source": [
    "print(f\"Training Data Score: {knn.score(X_train_scaled, y_train)}\")\n",
    "print(f\"Testing Data Score: {knn.score(X_test_scaled, y_test)}\")"
   ]
  },
  {
   "cell_type": "markdown",
   "metadata": {},
   "source": [
    "# Hyperparameter Tuning\n",
    "\n",
    "Use `GridSearchCV` to tune the model's parameters"
   ]
  },
  {
   "cell_type": "code",
   "execution_count": 18,
   "metadata": {},
   "outputs": [],
   "source": [
    "# Create the GridSearchCV model\n",
    "from sklearn.model_selection import GridSearchCV\n",
    "param_grid = {'n_neighbors': [10, 11, 12, 13],\n",
    "              'weights':['uniform','distance'],\n",
    "              'metric': ['euclidean','manhattan']}\n",
    "grid = GridSearchCV(knn, param_grid, verbose=3)"
   ]
  },
  {
   "cell_type": "code",
   "execution_count": 19,
   "metadata": {},
   "outputs": [
    {
     "name": "stdout",
     "output_type": "stream",
     "text": [
      "Fitting 5 folds for each of 16 candidates, totalling 80 fits\n",
      "[CV] metric=euclidean, n_neighbors=10, weights=uniform ...............\n",
      "[CV]  metric=euclidean, n_neighbors=10, weights=uniform, score=0.787, total=   0.1s\n",
      "[CV] metric=euclidean, n_neighbors=10, weights=uniform ...............\n"
     ]
    },
    {
     "name": "stderr",
     "output_type": "stream",
     "text": [
      "[Parallel(n_jobs=1)]: Using backend SequentialBackend with 1 concurrent workers.\n",
      "[Parallel(n_jobs=1)]: Done   1 out of   1 | elapsed:    0.0s remaining:    0.0s\n"
     ]
    },
    {
     "name": "stdout",
     "output_type": "stream",
     "text": [
      "[CV]  metric=euclidean, n_neighbors=10, weights=uniform, score=0.781, total=   0.1s\n",
      "[CV] metric=euclidean, n_neighbors=10, weights=uniform ...............\n",
      "[CV]  metric=euclidean, n_neighbors=10, weights=uniform, score=0.789, total=   0.1s\n",
      "[CV] metric=euclidean, n_neighbors=10, weights=uniform ...............\n",
      "[CV]  metric=euclidean, n_neighbors=10, weights=uniform, score=0.787, total=   0.1s\n",
      "[CV] metric=euclidean, n_neighbors=10, weights=uniform ...............\n"
     ]
    },
    {
     "name": "stderr",
     "output_type": "stream",
     "text": [
      "[Parallel(n_jobs=1)]: Done   2 out of   2 | elapsed:    0.1s remaining:    0.0s\n"
     ]
    },
    {
     "name": "stdout",
     "output_type": "stream",
     "text": [
      "[CV]  metric=euclidean, n_neighbors=10, weights=uniform, score=0.815, total=   0.1s\n",
      "[CV] metric=euclidean, n_neighbors=10, weights=distance ..............\n",
      "[CV]  metric=euclidean, n_neighbors=10, weights=distance, score=0.806, total=   0.1s\n",
      "[CV] metric=euclidean, n_neighbors=10, weights=distance ..............\n",
      "[CV]  metric=euclidean, n_neighbors=10, weights=distance, score=0.792, total=   0.1s\n",
      "[CV] metric=euclidean, n_neighbors=10, weights=distance ..............\n",
      "[CV]  metric=euclidean, n_neighbors=10, weights=distance, score=0.794, total=   0.1s\n",
      "[CV] metric=euclidean, n_neighbors=10, weights=distance ..............\n",
      "[CV]  metric=euclidean, n_neighbors=10, weights=distance, score=0.795, total=   0.1s\n",
      "[CV] metric=euclidean, n_neighbors=10, weights=distance ..............\n",
      "[CV]  metric=euclidean, n_neighbors=10, weights=distance, score=0.805, total=   0.1s\n",
      "[CV] metric=euclidean, n_neighbors=11, weights=uniform ...............\n",
      "[CV]  metric=euclidean, n_neighbors=11, weights=uniform, score=0.789, total=   0.1s\n",
      "[CV] metric=euclidean, n_neighbors=11, weights=uniform ...............\n",
      "[CV]  metric=euclidean, n_neighbors=11, weights=uniform, score=0.774, total=   0.1s\n",
      "[CV] metric=euclidean, n_neighbors=11, weights=uniform ...............\n",
      "[CV]  metric=euclidean, n_neighbors=11, weights=uniform, score=0.786, total=   0.1s\n",
      "[CV] metric=euclidean, n_neighbors=11, weights=uniform ...............\n",
      "[CV]  metric=euclidean, n_neighbors=11, weights=uniform, score=0.789, total=   0.1s\n",
      "[CV] metric=euclidean, n_neighbors=11, weights=uniform ...............\n",
      "[CV]  metric=euclidean, n_neighbors=11, weights=uniform, score=0.807, total=   0.1s\n",
      "[CV] metric=euclidean, n_neighbors=11, weights=distance ..............\n",
      "[CV]  metric=euclidean, n_neighbors=11, weights=distance, score=0.807, total=   0.1s\n",
      "[CV] metric=euclidean, n_neighbors=11, weights=distance ..............\n",
      "[CV]  metric=euclidean, n_neighbors=11, weights=distance, score=0.782, total=   0.1s\n",
      "[CV] metric=euclidean, n_neighbors=11, weights=distance ..............\n",
      "[CV]  metric=euclidean, n_neighbors=11, weights=distance, score=0.797, total=   0.1s\n",
      "[CV] metric=euclidean, n_neighbors=11, weights=distance ..............\n",
      "[CV]  metric=euclidean, n_neighbors=11, weights=distance, score=0.802, total=   0.1s\n",
      "[CV] metric=euclidean, n_neighbors=11, weights=distance ..............\n",
      "[CV]  metric=euclidean, n_neighbors=11, weights=distance, score=0.802, total=   0.1s\n",
      "[CV] metric=euclidean, n_neighbors=12, weights=uniform ...............\n",
      "[CV]  metric=euclidean, n_neighbors=12, weights=uniform, score=0.785, total=   0.1s\n",
      "[CV] metric=euclidean, n_neighbors=12, weights=uniform ...............\n",
      "[CV]  metric=euclidean, n_neighbors=12, weights=uniform, score=0.766, total=   0.1s\n",
      "[CV] metric=euclidean, n_neighbors=12, weights=uniform ...............\n",
      "[CV]  metric=euclidean, n_neighbors=12, weights=uniform, score=0.793, total=   0.1s\n",
      "[CV] metric=euclidean, n_neighbors=12, weights=uniform ...............\n",
      "[CV]  metric=euclidean, n_neighbors=12, weights=uniform, score=0.789, total=   0.1s\n",
      "[CV] metric=euclidean, n_neighbors=12, weights=uniform ...............\n",
      "[CV]  metric=euclidean, n_neighbors=12, weights=uniform, score=0.808, total=   0.1s\n",
      "[CV] metric=euclidean, n_neighbors=12, weights=distance ..............\n",
      "[CV]  metric=euclidean, n_neighbors=12, weights=distance, score=0.806, total=   0.1s\n",
      "[CV] metric=euclidean, n_neighbors=12, weights=distance ..............\n",
      "[CV]  metric=euclidean, n_neighbors=12, weights=distance, score=0.785, total=   0.1s\n",
      "[CV] metric=euclidean, n_neighbors=12, weights=distance ..............\n",
      "[CV]  metric=euclidean, n_neighbors=12, weights=distance, score=0.800, total=   0.1s\n",
      "[CV] metric=euclidean, n_neighbors=12, weights=distance ..............\n",
      "[CV]  metric=euclidean, n_neighbors=12, weights=distance, score=0.792, total=   0.1s\n",
      "[CV] metric=euclidean, n_neighbors=12, weights=distance ..............\n",
      "[CV]  metric=euclidean, n_neighbors=12, weights=distance, score=0.806, total=   0.1s\n",
      "[CV] metric=euclidean, n_neighbors=13, weights=uniform ...............\n",
      "[CV]  metric=euclidean, n_neighbors=13, weights=uniform, score=0.793, total=   0.1s\n",
      "[CV] metric=euclidean, n_neighbors=13, weights=uniform ...............\n",
      "[CV]  metric=euclidean, n_neighbors=13, weights=uniform, score=0.774, total=   0.1s\n",
      "[CV] metric=euclidean, n_neighbors=13, weights=uniform ...............\n",
      "[CV]  metric=euclidean, n_neighbors=13, weights=uniform, score=0.789, total=   0.1s\n",
      "[CV] metric=euclidean, n_neighbors=13, weights=uniform ...............\n",
      "[CV]  metric=euclidean, n_neighbors=13, weights=uniform, score=0.786, total=   0.1s\n",
      "[CV] metric=euclidean, n_neighbors=13, weights=uniform ...............\n",
      "[CV]  metric=euclidean, n_neighbors=13, weights=uniform, score=0.805, total=   0.1s\n",
      "[CV] metric=euclidean, n_neighbors=13, weights=distance ..............\n",
      "[CV]  metric=euclidean, n_neighbors=13, weights=distance, score=0.804, total=   0.1s\n",
      "[CV] metric=euclidean, n_neighbors=13, weights=distance ..............\n",
      "[CV]  metric=euclidean, n_neighbors=13, weights=distance, score=0.784, total=   0.1s\n",
      "[CV] metric=euclidean, n_neighbors=13, weights=distance ..............\n",
      "[CV]  metric=euclidean, n_neighbors=13, weights=distance, score=0.798, total=   0.1s\n",
      "[CV] metric=euclidean, n_neighbors=13, weights=distance ..............\n",
      "[CV]  metric=euclidean, n_neighbors=13, weights=distance, score=0.789, total=   0.1s\n",
      "[CV] metric=euclidean, n_neighbors=13, weights=distance ..............\n",
      "[CV]  metric=euclidean, n_neighbors=13, weights=distance, score=0.803, total=   0.1s\n",
      "[CV] metric=manhattan, n_neighbors=10, weights=uniform ...............\n",
      "[CV]  metric=manhattan, n_neighbors=10, weights=uniform, score=0.802, total=   0.1s\n",
      "[CV] metric=manhattan, n_neighbors=10, weights=uniform ...............\n",
      "[CV]  metric=manhattan, n_neighbors=10, weights=uniform, score=0.780, total=   0.1s\n",
      "[CV] metric=manhattan, n_neighbors=10, weights=uniform ...............\n",
      "[CV]  metric=manhattan, n_neighbors=10, weights=uniform, score=0.802, total=   0.1s\n",
      "[CV] metric=manhattan, n_neighbors=10, weights=uniform ...............\n",
      "[CV]  metric=manhattan, n_neighbors=10, weights=uniform, score=0.778, total=   0.1s\n",
      "[CV] metric=manhattan, n_neighbors=10, weights=uniform ...............\n",
      "[CV]  metric=manhattan, n_neighbors=10, weights=uniform, score=0.803, total=   0.1s\n",
      "[CV] metric=manhattan, n_neighbors=10, weights=distance ..............\n",
      "[CV]  metric=manhattan, n_neighbors=10, weights=distance, score=0.817, total=   0.1s\n",
      "[CV] metric=manhattan, n_neighbors=10, weights=distance ..............\n",
      "[CV]  metric=manhattan, n_neighbors=10, weights=distance, score=0.799, total=   0.1s\n",
      "[CV] metric=manhattan, n_neighbors=10, weights=distance ..............\n",
      "[CV]  metric=manhattan, n_neighbors=10, weights=distance, score=0.809, total=   0.1s\n",
      "[CV] metric=manhattan, n_neighbors=10, weights=distance ..............\n",
      "[CV]  metric=manhattan, n_neighbors=10, weights=distance, score=0.787, total=   0.1s\n",
      "[CV] metric=manhattan, n_neighbors=10, weights=distance ..............\n",
      "[CV]  metric=manhattan, n_neighbors=10, weights=distance, score=0.817, total=   0.1s\n",
      "[CV] metric=manhattan, n_neighbors=11, weights=uniform ...............\n",
      "[CV]  metric=manhattan, n_neighbors=11, weights=uniform, score=0.804, total=   0.1s\n",
      "[CV] metric=manhattan, n_neighbors=11, weights=uniform ...............\n",
      "[CV]  metric=manhattan, n_neighbors=11, weights=uniform, score=0.778, total=   0.1s\n",
      "[CV] metric=manhattan, n_neighbors=11, weights=uniform ...............\n",
      "[CV]  metric=manhattan, n_neighbors=11, weights=uniform, score=0.804, total=   0.1s\n",
      "[CV] metric=manhattan, n_neighbors=11, weights=uniform ...............\n",
      "[CV]  metric=manhattan, n_neighbors=11, weights=uniform, score=0.781, total=   0.1s\n",
      "[CV] metric=manhattan, n_neighbors=11, weights=uniform ...............\n",
      "[CV]  metric=manhattan, n_neighbors=11, weights=uniform, score=0.802, total=   0.1s\n",
      "[CV] metric=manhattan, n_neighbors=11, weights=distance ..............\n",
      "[CV]  metric=manhattan, n_neighbors=11, weights=distance, score=0.819, total=   0.1s\n",
      "[CV] metric=manhattan, n_neighbors=11, weights=distance ..............\n",
      "[CV]  metric=manhattan, n_neighbors=11, weights=distance, score=0.794, total=   0.1s\n",
      "[CV] metric=manhattan, n_neighbors=11, weights=distance ..............\n",
      "[CV]  metric=manhattan, n_neighbors=11, weights=distance, score=0.810, total=   0.1s\n",
      "[CV] metric=manhattan, n_neighbors=11, weights=distance ..............\n",
      "[CV]  metric=manhattan, n_neighbors=11, weights=distance, score=0.799, total=   0.1s\n",
      "[CV] metric=manhattan, n_neighbors=11, weights=distance ..............\n"
     ]
    },
    {
     "name": "stdout",
     "output_type": "stream",
     "text": [
      "[CV]  metric=manhattan, n_neighbors=11, weights=distance, score=0.810, total=   0.1s\n",
      "[CV] metric=manhattan, n_neighbors=12, weights=uniform ...............\n",
      "[CV]  metric=manhattan, n_neighbors=12, weights=uniform, score=0.792, total=   0.1s\n",
      "[CV] metric=manhattan, n_neighbors=12, weights=uniform ...............\n",
      "[CV]  metric=manhattan, n_neighbors=12, weights=uniform, score=0.784, total=   0.1s\n",
      "[CV] metric=manhattan, n_neighbors=12, weights=uniform ...............\n",
      "[CV]  metric=manhattan, n_neighbors=12, weights=uniform, score=0.790, total=   0.1s\n",
      "[CV] metric=manhattan, n_neighbors=12, weights=uniform ...............\n",
      "[CV]  metric=manhattan, n_neighbors=12, weights=uniform, score=0.776, total=   0.1s\n",
      "[CV] metric=manhattan, n_neighbors=12, weights=uniform ...............\n",
      "[CV]  metric=manhattan, n_neighbors=12, weights=uniform, score=0.804, total=   0.1s\n",
      "[CV] metric=manhattan, n_neighbors=12, weights=distance ..............\n",
      "[CV]  metric=manhattan, n_neighbors=12, weights=distance, score=0.819, total=   0.1s\n",
      "[CV] metric=manhattan, n_neighbors=12, weights=distance ..............\n",
      "[CV]  metric=manhattan, n_neighbors=12, weights=distance, score=0.801, total=   0.1s\n",
      "[CV] metric=manhattan, n_neighbors=12, weights=distance ..............\n",
      "[CV]  metric=manhattan, n_neighbors=12, weights=distance, score=0.803, total=   0.1s\n",
      "[CV] metric=manhattan, n_neighbors=12, weights=distance ..............\n",
      "[CV]  metric=manhattan, n_neighbors=12, weights=distance, score=0.789, total=   0.1s\n",
      "[CV] metric=manhattan, n_neighbors=12, weights=distance ..............\n",
      "[CV]  metric=manhattan, n_neighbors=12, weights=distance, score=0.813, total=   0.1s\n",
      "[CV] metric=manhattan, n_neighbors=13, weights=uniform ...............\n",
      "[CV]  metric=manhattan, n_neighbors=13, weights=uniform, score=0.800, total=   0.1s\n",
      "[CV] metric=manhattan, n_neighbors=13, weights=uniform ...............\n",
      "[CV]  metric=manhattan, n_neighbors=13, weights=uniform, score=0.786, total=   0.1s\n",
      "[CV] metric=manhattan, n_neighbors=13, weights=uniform ...............\n",
      "[CV]  metric=manhattan, n_neighbors=13, weights=uniform, score=0.794, total=   0.1s\n",
      "[CV] metric=manhattan, n_neighbors=13, weights=uniform ...............\n",
      "[CV]  metric=manhattan, n_neighbors=13, weights=uniform, score=0.777, total=   0.1s\n",
      "[CV] metric=manhattan, n_neighbors=13, weights=uniform ...............\n",
      "[CV]  metric=manhattan, n_neighbors=13, weights=uniform, score=0.806, total=   0.1s\n",
      "[CV] metric=manhattan, n_neighbors=13, weights=distance ..............\n",
      "[CV]  metric=manhattan, n_neighbors=13, weights=distance, score=0.819, total=   0.1s\n",
      "[CV] metric=manhattan, n_neighbors=13, weights=distance ..............\n",
      "[CV]  metric=manhattan, n_neighbors=13, weights=distance, score=0.789, total=   0.1s\n",
      "[CV] metric=manhattan, n_neighbors=13, weights=distance ..............\n",
      "[CV]  metric=manhattan, n_neighbors=13, weights=distance, score=0.802, total=   0.1s\n",
      "[CV] metric=manhattan, n_neighbors=13, weights=distance ..............\n",
      "[CV]  metric=manhattan, n_neighbors=13, weights=distance, score=0.796, total=   0.1s\n",
      "[CV] metric=manhattan, n_neighbors=13, weights=distance ..............\n",
      "[CV]  metric=manhattan, n_neighbors=13, weights=distance, score=0.819, total=   0.1s\n"
     ]
    },
    {
     "name": "stderr",
     "output_type": "stream",
     "text": [
      "[Parallel(n_jobs=1)]: Done  80 out of  80 | elapsed:    6.9s finished\n"
     ]
    },
    {
     "data": {
      "text/plain": [
       "GridSearchCV(cv=None, error_score=nan,\n",
       "             estimator=KNeighborsClassifier(algorithm='auto', leaf_size=30,\n",
       "                                            metric='minkowski',\n",
       "                                            metric_params=None, n_jobs=None,\n",
       "                                            n_neighbors=11, p=2,\n",
       "                                            weights='uniform'),\n",
       "             iid='deprecated', n_jobs=None,\n",
       "             param_grid={'metric': ['euclidean', 'manhattan'],\n",
       "                         'n_neighbors': [10, 11, 12, 13],\n",
       "                         'weights': ['uniform', 'distance']},\n",
       "             pre_dispatch='2*n_jobs', refit=True, return_train_score=False,\n",
       "             scoring=None, verbose=3)"
      ]
     },
     "execution_count": 19,
     "metadata": {},
     "output_type": "execute_result"
    }
   ],
   "source": [
    "# Train the model with GridSearch\n",
    "grid.fit(X_train_scaled, y_train)"
   ]
  },
  {
   "cell_type": "code",
   "execution_count": 20,
   "metadata": {},
   "outputs": [
    {
     "name": "stdout",
     "output_type": "stream",
     "text": [
      "Best Parameters: {'metric': 'manhattan', 'n_neighbors': 11, 'weights': 'distance'}\n",
      "Best Score: 0.8064077747618598\n"
     ]
    }
   ],
   "source": [
    "# List the best parameters for this dataset\n",
    "print(f\"Best Parameters: {grid.best_params_}\")\n",
    "\n",
    "# List the best score\n",
    "print(f\"Best Score: {grid.best_score_}\")"
   ]
  },
  {
   "cell_type": "code",
   "execution_count": 21,
   "metadata": {},
   "outputs": [
    {
     "name": "stdout",
     "output_type": "stream",
     "text": [
      "Training Grid Score: 1.0\n",
      "Testing Grid Score: 0.8060640732265446\n"
     ]
    }
   ],
   "source": [
    "print(f\"Training Grid Score: {grid.score(X_train_scaled, y_train)}\")\n",
    "print(f\"Testing Grid Score: {grid.score(X_test_scaled, y_test)}\")"
   ]
  },
  {
   "cell_type": "code",
   "execution_count": 22,
   "metadata": {},
   "outputs": [],
   "source": [
    "# Make predictions with the hypertuned model\n",
    "predictions = grid.predict(X_test_scaled)"
   ]
  },
  {
   "cell_type": "code",
   "execution_count": 23,
   "metadata": {},
   "outputs": [
    {
     "name": "stdout",
     "output_type": "stream",
     "text": [
      "                precision    recall  f1-score   support\n",
      "\n",
      "     CANDIDATE       0.61      0.56      0.58       411\n",
      "     CONFIRMED       0.65      0.68      0.66       484\n",
      "FALSE POSITIVE       0.98      1.00      0.99       853\n",
      "\n",
      "      accuracy                           0.81      1748\n",
      "     macro avg       0.75      0.75      0.75      1748\n",
      "  weighted avg       0.80      0.81      0.80      1748\n",
      "\n"
     ]
    }
   ],
   "source": [
    "# Calculate classification report\n",
    "from sklearn.metrics import classification_report\n",
    "print(classification_report(y_test, predictions))"
   ]
  },
  {
   "cell_type": "markdown",
   "metadata": {},
   "source": [
    "# Save the Model"
   ]
  },
  {
   "cell_type": "code",
   "execution_count": 24,
   "metadata": {},
   "outputs": [
    {
     "data": {
      "text/plain": [
       "['adrianaovalle_knn.sav']"
      ]
     },
     "execution_count": 24,
     "metadata": {},
     "output_type": "execute_result"
    }
   ],
   "source": [
    "# save your model by updating \"your_name\" with your name\n",
    "# and \"your_model\" with your model variable\n",
    "# be sure to turn this in to BCS\n",
    "# if joblib fails to import, try running the command to install in terminal/git-bash\n",
    "import joblib\n",
    "filename = 'adrianaovalle_knn.sav'\n",
    "joblib.dump(knn, filename)"
   ]
  },
  {
   "cell_type": "code",
   "execution_count": null,
   "metadata": {},
   "outputs": [],
   "source": []
  }
 ],
 "metadata": {
  "kernel_info": {
   "name": "dev"
  },
  "kernelspec": {
   "display_name": "Python [conda env:PythonData] *",
   "language": "python",
   "name": "conda-env-PythonData-py"
  },
  "language_info": {
   "codemirror_mode": {
    "name": "ipython",
    "version": 3
   },
   "file_extension": ".py",
   "mimetype": "text/x-python",
   "name": "python",
   "nbconvert_exporter": "python",
   "pygments_lexer": "ipython3",
   "version": "3.8.2"
  },
  "nteract": {
   "version": "0.12.3"
  }
 },
 "nbformat": 4,
 "nbformat_minor": 2
}
